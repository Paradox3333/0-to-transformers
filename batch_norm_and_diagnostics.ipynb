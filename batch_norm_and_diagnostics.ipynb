{
 "cells": [
  {
   "cell_type": "code",
   "execution_count": 1,
   "metadata": {},
   "outputs": [],
   "source": [
    "import torch\n",
    "import torch.nn.functional as F\n",
    "import matplotlib.pyplot as plt # for making figures\n",
    "%matplotlib inline"
   ]
  },
  {
   "cell_type": "code",
   "execution_count": 2,
   "metadata": {},
   "outputs": [
    {
     "data": {
      "text/plain": [
       "['emma', 'olivia', 'ava', 'isabella', 'sophia', 'charlotte', 'mia', 'amelia']"
      ]
     },
     "execution_count": 2,
     "metadata": {},
     "output_type": "execute_result"
    }
   ],
   "source": [
    "# read in all the words\n",
    "words = open('names.txt', 'r').read().splitlines()\n",
    "words[:8]"
   ]
  },
  {
   "cell_type": "code",
   "execution_count": 3,
   "metadata": {},
   "outputs": [
    {
     "data": {
      "text/plain": [
       "32033"
      ]
     },
     "execution_count": 3,
     "metadata": {},
     "output_type": "execute_result"
    }
   ],
   "source": [
    "len(words)"
   ]
  },
  {
   "cell_type": "code",
   "execution_count": 4,
   "metadata": {},
   "outputs": [
    {
     "name": "stdout",
     "output_type": "stream",
     "text": [
      "{1: 'a', 2: 'b', 3: 'c', 4: 'd', 5: 'e', 6: 'f', 7: 'g', 8: 'h', 9: 'i', 10: 'j', 11: 'k', 12: 'l', 13: 'm', 14: 'n', 15: 'o', 16: 'p', 17: 'q', 18: 'r', 19: 's', 20: 't', 21: 'u', 22: 'v', 23: 'w', 24: 'x', 25: 'y', 26: 'z', 0: '.'}\n",
      "27\n"
     ]
    }
   ],
   "source": [
    "# build the vocabulary of characters and mappings to/from integers\n",
    "chars = sorted(list(set(''.join(words))))\n",
    "stoi = {s:i+1 for i,s in enumerate(chars)}\n",
    "stoi['.'] = 0\n",
    "itos = {i:s for s,i in stoi.items()}\n",
    "vocab_size = len(itos)\n",
    "print(itos)\n",
    "print(vocab_size)"
   ]
  },
  {
   "cell_type": "code",
   "execution_count": 5,
   "metadata": {},
   "outputs": [
    {
     "name": "stdout",
     "output_type": "stream",
     "text": [
      "torch.Size([182625, 3]) torch.Size([182625])\n",
      "torch.Size([22655, 3]) torch.Size([22655])\n",
      "torch.Size([22866, 3]) torch.Size([22866])\n"
     ]
    }
   ],
   "source": [
    "# build the dataset\n",
    "block_size = 3 # context length: how many characters do we take to predict the next one?\n",
    "\n",
    "def build_dataset(words):  \n",
    "  X, Y = [], []\n",
    "  \n",
    "  for w in words:\n",
    "    context = [0] * block_size\n",
    "    for ch in w + '.':\n",
    "      ix = stoi[ch] # convert char to index\n",
    "      X.append(context)\n",
    "      Y.append(ix)\n",
    "      context = context[1:] + [ix] # crop and append\n",
    "\n",
    "  X = torch.tensor(X)\n",
    "  Y = torch.tensor(Y)\n",
    "  print(X.shape, Y.shape)\n",
    "  return X, Y\n",
    "\n",
    "import random\n",
    "random.seed(42)\n",
    "random.shuffle(words)\n",
    "n1 = int(0.8*len(words))\n",
    "n2 = int(0.9*len(words))\n",
    "\n",
    "Xtr,  Ytr  = build_dataset(words[:n1])     # 80% \n",
    "Xdev, Ydev = build_dataset(words[n1:n2])   # 10%\n",
    "Xte,  Yte  = build_dataset(words[n2:])     # 10%"
   ]
  },
  {
   "cell_type": "code",
   "execution_count": 6,
   "metadata": {},
   "outputs": [
    {
     "name": "stdout",
     "output_type": "stream",
     "text": [
      "11897\n"
     ]
    }
   ],
   "source": [
    "# MLP revisited\n",
    "n_embd = 10 # the dimensionality of the character embedding vectors\n",
    "n_hidden = 200 # the number of neurons in the hidden layer of the MLP\n",
    "\n",
    "g = torch.Generator().manual_seed(2147483647) # for reproducibility\n",
    "C  = torch.randn((vocab_size, n_embd),            generator=g)\n",
    "W1 = torch.randn((n_embd * block_size, n_hidden), generator=g)\n",
    "b1 = torch.randn(n_hidden,                        generator=g) \n",
    "W2 = torch.randn((n_hidden, vocab_size),          generator=g) \n",
    "b2 = torch.randn(vocab_size,                      generator=g) \n",
    "\n",
    "parameters = [C, W1, b1, W2, b2]\n",
    "print(sum(p.nelement() for p in parameters)) # number of parameters in total\n",
    "for p in parameters:\n",
    "  p.requires_grad = True"
   ]
  },
  {
   "cell_type": "code",
   "execution_count": 7,
   "metadata": {},
   "outputs": [
    {
     "name": "stdout",
     "output_type": "stream",
     "text": [
      "      0/ 200000: 27.8817\n",
      "  10000/ 200000: 2.7955\n",
      "  20000/ 200000: 2.6306\n",
      "  30000/ 200000: 2.8458\n",
      "  40000/ 200000: 2.0263\n",
      "  50000/ 200000: 2.5424\n",
      "  60000/ 200000: 2.3461\n",
      "  70000/ 200000: 2.1167\n",
      "  80000/ 200000: 2.3299\n",
      "  90000/ 200000: 2.2775\n",
      " 100000/ 200000: 2.0110\n",
      " 110000/ 200000: 2.2857\n",
      " 120000/ 200000: 1.8496\n",
      " 130000/ 200000: 2.3583\n",
      " 140000/ 200000: 2.1619\n",
      " 150000/ 200000: 2.2178\n",
      " 160000/ 200000: 2.0732\n",
      " 170000/ 200000: 1.7830\n",
      " 180000/ 200000: 1.9616\n",
      " 190000/ 200000: 1.9436\n"
     ]
    }
   ],
   "source": [
    "max_steps = 200000\n",
    "batch_size = 32\n",
    "loss_i = []\n",
    "\n",
    "for i in range(max_steps):\n",
    "\n",
    "    # Minibatch construction\n",
    "    ix = torch.randint(0, Xtr.shape[0], (batch_size,), generator=g) # sample random row indices\n",
    "    Xb, Yb = Xtr[ix], Ytr[ix]   # batch X,Y of char indices \n",
    "\n",
    "    # Forward pass\n",
    "    emb = C[Xb]                             # embed the characters into vectors\n",
    "    emb_cat = emb.view(emb.shape[0], -1)    # concatenate the vectors\n",
    "    h_pre_act = emb_cat @ W1 + b1           # hidden layer pre-activation\n",
    "    h = torch.tanh(h_pre_act)               # hidden layer\n",
    "    logits = h @ W2 + b2                    # output layer    \n",
    "    loss = F.cross_entropy(logits, Yb)      # loss function\n",
    "    \n",
    "    # Backward pass\n",
    "    for p in parameters:    \n",
    "        p.grad = None\n",
    "    loss.backward()\n",
    "\n",
    "    # Update\n",
    "    lr = 0.1 if i < 100000 else 0.01 # step learning rate decay\n",
    "    for p in parameters: # Note that the embeddings are also updated!\n",
    "        p.data += -lr * p.grad\n",
    "\n",
    "    # Track stats\n",
    "    if i  % 10000 == 0: # Print every once in a while\n",
    "        print(f'{i:7d}/{max_steps:7d}: {loss.item():.4f}')\n",
    "    loss_i.append(loss.log10().item()) "
   ]
  },
  {
   "cell_type": "code",
   "execution_count": 8,
   "metadata": {},
   "outputs": [
    {
     "data": {
      "text/plain": [
       "[<matplotlib.lines.Line2D at 0x26ccd57e080>]"
      ]
     },
     "execution_count": 8,
     "metadata": {},
     "output_type": "execute_result"
    },
    {
     "data": {
      "image/png": "[encoded data removed]",
      "text/plain": [
       "<Figure size 640x480 with 1 Axes>"
      ]
     },
     "metadata": {},
     "output_type": "display_data"
    }
   ],
   "source": [
    "plt.plot(loss_i)"
   ]
  },
  {
   "cell_type": "code",
   "execution_count": 9,
   "metadata": {},
   "outputs": [
    {
     "name": "stdout",
     "output_type": "stream",
     "text": [
      "train 2.1277637481689453\n",
      "val 2.1674869060516357\n"
     ]
    }
   ],
   "source": [
    "@torch.no_grad()    # temporarily turns off gradient computation for the next function\n",
    "                    # Makes the code more efficient since Pytorch does not have to maintain the computational graph for gradient calc\n",
    "\n",
    "def split_loss(split: str) -> None:\n",
    "    x, y = {\n",
    "        'train': (Xtr, Ytr),\n",
    "        'val': (Xdev, Ydev),\n",
    "        'test': (Xte, Yte)\n",
    "    }[split] # index into the dictionary to select what to evaluate based on function call\n",
    "\n",
    "    #Forward pass\n",
    "    emb = C[x]                              # (N, block_size, n_embd)                        \n",
    "    emb_cat = emb.view(emb.shape[0], -1)    # concat into (N, block_size * n_embd)\n",
    "    h = torch.tanh(emb_cat @ W1 + b1)       # (N, n_hidden)\n",
    "    logits = h @ W2 + b2                    # (N, vocab_size)\n",
    "    loss = F.cross_entropy(logits, y)\n",
    "    print(split, loss.item())\n",
    "\n",
    "split_loss('train')\n",
    "split_loss('val')"
   ]
  },
  {
   "cell_type": "code",
   "execution_count": 10,
   "metadata": {},
   "outputs": [
    {
     "name": "stdout",
     "output_type": "stream",
     "text": [
      "mona.\n",
      "mayah.\n",
      "seel.\n",
      "nah.\n",
      "yal.\n",
      "rener.\n",
      "jendraegustered.\n",
      "eliia.\n",
      "milopaleigh.\n",
      "eson.\n",
      "arleitzion.\n",
      "kamin.\n",
      "shubergian.\n",
      "jest.\n",
      "jair.\n",
      "jenslen.\n",
      "profio.\n",
      "zey.\n",
      "der.\n",
      "yarue.\n"
     ]
    }
   ],
   "source": [
    "# sample from the model\n",
    "g = torch.Generator().manual_seed(2147483647 + 10)\n",
    "\n",
    "for _ in range(20):\n",
    "    \n",
    "    out = []\n",
    "    context = [0] * block_size # initialize with all ...\n",
    "    while True:\n",
    "      emb = C[torch.tensor([context])] # (1,block_size,d) because it's 1 example being generated, every forward pass adds a prediction until . is hit\n",
    "      h = torch.tanh(emb.view(1, -1) @ W1 + b1)\n",
    "      logits = h @ W2 + b2\n",
    "      probs = F.softmax(logits, dim=1)\n",
    "      ix = torch.multinomial(probs, num_samples=1, generator=g).item() # sample from predicted probability distribution over the characters\n",
    "      context = context[1:] + [ix] # shift context\n",
    "      out.append(ix) # append index of predicted character\n",
    "      if ix == 0:\n",
    "        break\n",
    "    \n",
    "    print(''.join(itos[i] for i in out)) # convert indices to characters and print"
   ]
  },
  {
   "cell_type": "code",
   "execution_count": 11,
   "metadata": {},
   "outputs": [
    {
     "name": "stdout",
     "output_type": "stream",
     "text": [
      "-torch.tensor(1/27.0).log() = tensor(3.2958)\n"
     ]
    }
   ],
   "source": [
    "# Issues: \n",
    "\n",
    "# 1) The loss at initialization is not appropriate:\n",
    "#    first 10k training steps loss:\n",
    "#                     0/ 200000: 27.8817\n",
    "#                     10000/ 200000: 2.7955\n",
    "# \n",
    "#  We expect the model to predict all characters with equal probability when it hasn't learned\n",
    "#  anything yet. This means a p of 1/27.0. And the associated loss is:\n",
    "print(f'{-torch.tensor(1/27.0).log() = }')\n",
    "\n",
    "# Note: if instead we correctly initialize the weights (around 0 but with some entropy to break symmetry) and biases (to 0),\n",
    "#       the first 10k iterations can be used to actually learn something, yielding better performance of the NN after all training is done.\n",
    "\n",
    "# 2) if too many activations fed into the tanh are too large, the tanh will respond in the same way (with -1 or 1, remember tanh graph), \n",
    "#    this causes gradients to vanish, which can result in dead neurons that never learn (their weights and biases are never learning)! \n",
    "#       Remember summary of grad calc Steps:\n",
    "#           Compute the forward pass with y = tanh(x).\n",
    "#           During backpropagation, receive the gradient of the loss with respect to the output of the tanh function, dL/dy.\n",
    "#           Compute the derivative of the tanh function: dy/dx = 1 - tanh^2(x) = 1 - y^2.\n",
    "#           Apply the chain rule: dL/dx = dL/dy * (1 - y^2).\n",
    "#    https://www.youtube.com/watch?v=P6sfmUTpUmc&t=144s (00:12:59 - 00:27:53)"
   ]
  },
  {
   "cell_type": "markdown",
   "metadata": {},
   "source": [
    "### Distributions optimization"
   ]
  },
  {
   "cell_type": "code",
   "execution_count": 12,
   "metadata": {},
   "outputs": [
    {
     "name": "stdout",
     "output_type": "stream",
     "text": [
      "11897\n"
     ]
    }
   ],
   "source": [
    "# Initialize\n",
    "n_embd = 10 # the dimensionality of the character embedding vectors\n",
    "n_hidden = 200 # the number of neurons in the hidden layer of the MLP\n",
    "\n",
    "g = torch.Generator().manual_seed(2147483647) # for reproducibility\n",
    "C  = torch.randn((vocab_size, n_embd),            generator=g)\n",
    "W1 = torch.randn((n_embd * block_size, n_hidden), generator=g) * 0.2\n",
    "b1 = torch.randn(n_hidden,                        generator=g) * 0.01\n",
    "W2 = torch.randn((n_hidden, vocab_size),          generator=g) * 0.01\n",
    "b2 = torch.randn(vocab_size,                      generator=g) * 0\n",
    "\n",
    "parameters = [C, W1, b1, W2, b2]\n",
    "print(sum(p.nelement() for p in parameters)) # number of parameters in total\n",
    "for p in parameters:\n",
    "  p.requires_grad = True"
   ]
  },
  {
   "cell_type": "code",
   "execution_count": 13,
   "metadata": {},
   "outputs": [
    {
     "name": "stdout",
     "output_type": "stream",
     "text": [
      "      0/ 200000: 3.3135\n",
      "  10000/ 200000: 2.1648\n",
      "  20000/ 200000: 2.3061\n",
      "  30000/ 200000: 2.4541\n",
      "  40000/ 200000: 1.9787\n",
      "  50000/ 200000: 2.2930\n",
      "  60000/ 200000: 2.4232\n",
      "  70000/ 200000: 2.0680\n",
      "  80000/ 200000: 2.3095\n",
      "  90000/ 200000: 2.1207\n",
      " 100000/ 200000: 1.8269\n",
      " 110000/ 200000: 2.2045\n",
      " 120000/ 200000: 1.9797\n",
      " 130000/ 200000: 2.3946\n",
      " 140000/ 200000: 2.1000\n",
      " 150000/ 200000: 2.1948\n",
      " 160000/ 200000: 1.8619\n",
      " 170000/ 200000: 1.7809\n",
      " 180000/ 200000: 1.9673\n",
      " 190000/ 200000: 1.8295\n"
     ]
    }
   ],
   "source": [
    "max_steps = 200000\n",
    "batch_size = 32\n",
    "loss_i = []\n",
    "\n",
    "for i in range(max_steps):\n",
    "\n",
    "    # Minibatch construction\n",
    "    ix = torch.randint(0, Xtr.shape[0], (batch_size,), generator=g) # sample random row indices\n",
    "    Xb, Yb = Xtr[ix], Ytr[ix]   # batch X,Y of char indices \n",
    "\n",
    "    # Forward pass\n",
    "    emb = C[Xb]                             # embed the characters into vectors\n",
    "    emb_cat = emb.view(emb.shape[0], -1)    # concatenate the vectors\n",
    "    h_pre_act = emb_cat @ W1 + b1           # hidden layer pre-activation\n",
    "    h = torch.tanh(h_pre_act)               # hidden layer\n",
    "    logits = h @ W2 + b2                    # output layer    \n",
    "    loss = F.cross_entropy(logits, Yb)      # loss function\n",
    "    \n",
    "    # Backward pass\n",
    "    for p in parameters:    \n",
    "        p.grad = None\n",
    "    loss.backward()\n",
    "\n",
    "    # Update\n",
    "    lr = 0.1 if i < 100000 else 0.01 # step learning rate decay\n",
    "    for p in parameters: # Note that the embeddings are also updated!\n",
    "        p.data += -lr * p.grad\n",
    "\n",
    "    # Track stats\n",
    "    if i  % 10000 == 0: # Print every once in a while\n",
    "        print(f'{i:7d}/{max_steps:7d}: {loss.item():.4f}')\n",
    "    loss_i.append(loss.log10().item()) "
   ]
  },
  {
   "cell_type": "code",
   "execution_count": 14,
   "metadata": {},
   "outputs": [
    {
     "data": {
      "text/plain": [
       "[<matplotlib.lines.Line2D at 0x26cce8cfa00>]"
      ]
     },
     "execution_count": 14,
     "metadata": {},
     "output_type": "execute_result"
    },
    {
     "data": {
      "image/png": "[encoded data removed]",
      "text/plain": [
       "<Figure size 640x480 with 1 Axes>"
      ]
     },
     "metadata": {},
     "output_type": "display_data"
    }
   ],
   "source": [
    "plt.plot(loss_i)"
   ]
  },
  {
   "cell_type": "code",
   "execution_count": 15,
   "metadata": {},
   "outputs": [
    {
     "name": "stdout",
     "output_type": "stream",
     "text": [
      "train 2.0355966091156006\n",
      "val 2.1026785373687744\n"
     ]
    }
   ],
   "source": [
    "@torch.no_grad()    # temporarily turns off gradient computation for the next function\n",
    "                    # Makes the code more efficient since Pytorch does not have to maintain the computational graph for gradient calc\n",
    "\n",
    "def split_loss(split: str) -> None:\n",
    "    x, y = {\n",
    "        'train': (Xtr, Ytr),\n",
    "        'val': (Xdev, Ydev),\n",
    "        'test': (Xte, Yte)\n",
    "    }[split] # index into the dictionary to select what to evaluate based on function call\n",
    "\n",
    "    #Forward pass\n",
    "    emb = C[x]                              # (N, block_size, n_embd)                        \n",
    "    emb_cat = emb.view(emb.shape[0], -1)    # concat into (N, block_size * n_embd)\n",
    "    h = torch.tanh(emb_cat @ W1 + b1)       # (N, n_hidden)\n",
    "    logits = h @ W2 + b2                    # (N, vocab_size)\n",
    "    loss = F.cross_entropy(logits, y)\n",
    "    print(split, loss.item())\n",
    "\n",
    "split_loss('train')\n",
    "split_loss('val')\n",
    "\n",
    "# Note: Loss is much better."
   ]
  }
 ],
 "metadata": {
  "kernelspec": {
   "display_name": "DL",
   "language": "python",
   "name": "python3"
  },
  "language_info": {
   "codemirror_mode": {
    "name": "ipython",
    "version": 3
   },
   "file_extension": ".py",
   "mimetype": "text/x-python",
   "name": "python",
   "nbconvert_exporter": "python",
   "pygments_lexer": "ipython3",
   "version": "3.10.13"
  }
 },
 "nbformat": 4,
 "nbformat_minor": 2
}
