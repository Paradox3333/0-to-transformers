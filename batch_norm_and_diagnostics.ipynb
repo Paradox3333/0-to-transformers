{
 "cells": [
  {
   "cell_type": "code",
   "execution_count": 1,
   "metadata": {},
   "outputs": [],
   "source": [
    "import torch\n",
    "import torch.nn.functional as F\n",
    "import matplotlib.pyplot as plt # for making figures\n",
    "%matplotlib inline"
   ]
  },
  {
   "cell_type": "code",
   "execution_count": 2,
   "metadata": {},
   "outputs": [
    {
     "data": {
      "text/plain": [
       "['emma', 'olivia', 'ava', 'isabella', 'sophia', 'charlotte', 'mia', 'amelia']"
      ]
     },
     "execution_count": 2,
     "metadata": {},
     "output_type": "execute_result"
    }
   ],
   "source": [
    "# read in all the words\n",
    "words = open('names.txt', 'r').read().splitlines()\n",
    "words[:8]"
   ]
  },
  {
   "cell_type": "code",
   "execution_count": 3,
   "metadata": {},
   "outputs": [
    {
     "data": {
      "text/plain": [
       "32033"
      ]
     },
     "execution_count": 3,
     "metadata": {},
     "output_type": "execute_result"
    }
   ],
   "source": [
    "len(words)"
   ]
  },
  {
   "cell_type": "code",
   "execution_count": 4,
   "metadata": {},
   "outputs": [
    {
     "name": "stdout",
     "output_type": "stream",
     "text": [
      "{1: 'a', 2: 'b', 3: 'c', 4: 'd', 5: 'e', 6: 'f', 7: 'g', 8: 'h', 9: 'i', 10: 'j', 11: 'k', 12: 'l', 13: 'm', 14: 'n', 15: 'o', 16: 'p', 17: 'q', 18: 'r', 19: 's', 20: 't', 21: 'u', 22: 'v', 23: 'w', 24: 'x', 25: 'y', 26: 'z', 0: '.'}\n",
      "27\n"
     ]
    }
   ],
   "source": [
    "# build the vocabulary of characters and mappings to/from integers\n",
    "chars = sorted(list(set(''.join(words))))\n",
    "stoi = {s:i+1 for i,s in enumerate(chars)}\n",
    "stoi['.'] = 0\n",
    "itos = {i:s for s,i in stoi.items()}\n",
    "vocab_size = len(itos)\n",
    "print(itos)\n",
    "print(vocab_size)"
   ]
  },
  {
   "cell_type": "code",
   "execution_count": 5,
   "metadata": {},
   "outputs": [
    {
     "name": "stdout",
     "output_type": "stream",
     "text": [
      "torch.Size([182625, 3]) torch.Size([182625])\n",
      "torch.Size([22655, 3]) torch.Size([22655])\n",
      "torch.Size([22866, 3]) torch.Size([22866])\n"
     ]
    }
   ],
   "source": [
    "# build the dataset\n",
    "block_size = 3 # context length: how many characters do we take to predict the next one?\n",
    "\n",
    "def build_dataset(words):  \n",
    "  X, Y = [], []\n",
    "  \n",
    "  for w in words:\n",
    "    context = [0] * block_size\n",
    "    for ch in w + '.':\n",
    "      ix = stoi[ch] # convert char to index\n",
    "      X.append(context)\n",
    "      Y.append(ix)\n",
    "      context = context[1:] + [ix] # crop and append\n",
    "\n",
    "  X = torch.tensor(X)\n",
    "  Y = torch.tensor(Y)\n",
    "  print(X.shape, Y.shape)\n",
    "  return X, Y\n",
    "\n",
    "import random\n",
    "random.seed(42)\n",
    "random.shuffle(words)\n",
    "n1 = int(0.8*len(words))\n",
    "n2 = int(0.9*len(words))\n",
    "\n",
    "Xtr,  Ytr  = build_dataset(words[:n1])     # 80% \n",
    "Xdev, Ydev = build_dataset(words[n1:n2])   # 10%\n",
    "Xte,  Yte  = build_dataset(words[n2:])     # 10%"
   ]
  },
  {
   "cell_type": "code",
   "execution_count": 6,
   "metadata": {},
   "outputs": [
    {
     "name": "stdout",
     "output_type": "stream",
     "text": [
      "11897\n"
     ]
    }
   ],
   "source": [
    "# MLP revisited\n",
    "n_embd = 10 # the dimensionality of the character embedding vectors\n",
    "n_hidden = 200 # the number of neurons in the hidden layer of the MLP\n",
    "\n",
    "g = torch.Generator().manual_seed(2147483647) # for reproducibility\n",
    "C  = torch.randn((vocab_size, n_embd),            generator=g)\n",
    "W1 = torch.randn((n_embd * block_size, n_hidden), generator=g)\n",
    "b1 = torch.randn(n_hidden,                        generator=g) \n",
    "W2 = torch.randn((n_hidden, vocab_size),          generator=g) \n",
    "b2 = torch.randn(vocab_size,                      generator=g) \n",
    "\n",
    "parameters = [C, W1, b1, W2, b2]\n",
    "print(sum(p.nelement() for p in parameters)) # number of parameters in total\n",
    "for p in parameters:\n",
    "  p.requires_grad = True"
   ]
  },
  {
   "cell_type": "code",
   "execution_count": 7,
   "metadata": {},
   "outputs": [
    {
     "name": "stdout",
     "output_type": "stream",
     "text": [
      "      0/ 200000: 27.8817\n",
      "  10000/ 200000: 2.7955\n",
      "  20000/ 200000: 2.6306\n",
      "  30000/ 200000: 2.8458\n",
      "  40000/ 200000: 2.0263\n",
      "  50000/ 200000: 2.5424\n",
      "  60000/ 200000: 2.3461\n",
      "  70000/ 200000: 2.1167\n",
      "  80000/ 200000: 2.3299\n",
      "  90000/ 200000: 2.2775\n",
      " 100000/ 200000: 2.0110\n",
      " 110000/ 200000: 2.2857\n",
      " 120000/ 200000: 1.8496\n",
      " 130000/ 200000: 2.3583\n",
      " 140000/ 200000: 2.1619\n",
      " 150000/ 200000: 2.2178\n",
      " 160000/ 200000: 2.0732\n",
      " 170000/ 200000: 1.7830\n",
      " 180000/ 200000: 1.9616\n",
      " 190000/ 200000: 1.9436\n"
     ]
    }
   ],
   "source": [
    "max_steps = 200000\n",
    "batch_size = 32\n",
    "loss_i = []\n",
    "\n",
    "for i in range(max_steps):\n",
    "\n",
    "    # Minibatch construction\n",
    "    ix = torch.randint(0, Xtr.shape[0], (batch_size,), generator=g) # sample random row indices\n",
    "    Xb, Yb = Xtr[ix], Ytr[ix]   # batch X,Y of char indices \n",
    "\n",
    "    # Forward pass\n",
    "    emb = C[Xb]                             # embed the characters into vectors\n",
    "    emb_cat = emb.view(emb.shape[0], -1)    # concatenate the vectors\n",
    "    h_pre_act = emb_cat @ W1 + b1           # hidden layer pre-activation\n",
    "    h = torch.tanh(h_pre_act)               # hidden layer\n",
    "    logits = h @ W2 + b2                    # output layer    \n",
    "    loss = F.cross_entropy(logits, Yb)      # loss function\n",
    "    \n",
    "    # Backward pass\n",
    "    for p in parameters:    \n",
    "        p.grad = None\n",
    "    loss.backward()\n",
    "\n",
    "    # Update\n",
    "    lr = 0.1 if i < 100000 else 0.01 # step learning rate decay\n",
    "    for p in parameters: # Note that the embeddings are also updated!\n",
    "        p.data += -lr * p.grad\n",
    "\n",
    "    # Track stats\n",
    "    if i  % 10000 == 0: # Print every once in a while\n",
    "        print(f'{i:7d}/{max_steps:7d}: {loss.item():.4f}')\n",
    "    loss_i.append(loss.log10().item()) "
   ]
  },
  {
   "cell_type": "code",
   "execution_count": 8,
   "metadata": {},
   "outputs": [
    {
     "data": {
      "text/plain": [
       "[<matplotlib.lines.Line2D at 0x163564ec0a0>]"
      ]
     },
     "execution_count": 8,
     "metadata": {},
     "output_type": "execute_result"
    },
    {
     "data": {
      "image/png": "[encoded data removed]",
      "text/plain": [
       "<Figure size 640x480 with 1 Axes>"
      ]
     },
     "metadata": {},
     "output_type": "display_data"
    }
   ],
   "source": [
    "plt.plot(loss_i)"
   ]
  },
  {
   "cell_type": "code",
   "execution_count": 9,
   "metadata": {},
   "outputs": [
    {
     "name": "stdout",
     "output_type": "stream",
     "text": [
      "train 2.1277637481689453\n",
      "val 2.1674869060516357\n"
     ]
    }
   ],
   "source": [
    "@torch.no_grad()    # temporarily turns off gradient computation for the next function\n",
    "                    # Makes the code more efficient since Pytorch does not have to maintain the computational graph for gradient calc\n",
    "\n",
    "def split_loss(split: str) -> None:\n",
    "    x, y = {\n",
    "        'train': (Xtr, Ytr),\n",
    "        'val': (Xdev, Ydev),\n",
    "        'test': (Xte, Yte)\n",
    "    }[split] # index into the dictionary to select what to evaluate based on function call\n",
    "\n",
    "    #Forward pass\n",
    "    emb = C[x]                              # (N, block_size, n_embd)                        \n",
    "    emb_cat = emb.view(emb.shape[0], -1)    # concat into (N, block_size * n_embd)\n",
    "    h = torch.tanh(emb_cat @ W1 + b1)       # (N, n_hidden)\n",
    "    logits = h @ W2 + b2                    # (N, vocab_size)\n",
    "    loss = F.cross_entropy(logits, y)\n",
    "    print(split, loss.item())\n",
    "\n",
    "split_loss('train')\n",
    "split_loss('val')"
   ]
  },
  {
   "cell_type": "code",
   "execution_count": 10,
   "metadata": {},
   "outputs": [
    {
     "name": "stdout",
     "output_type": "stream",
     "text": [
      "mona.\n",
      "mayah.\n",
      "seel.\n",
      "nah.\n",
      "yal.\n",
      "rener.\n",
      "jendraegustered.\n",
      "eliia.\n",
      "milopaleigh.\n",
      "eson.\n",
      "arleitzion.\n",
      "kamin.\n",
      "shubergian.\n",
      "jest.\n",
      "jair.\n",
      "jenslen.\n",
      "profio.\n",
      "zey.\n",
      "der.\n",
      "yarue.\n"
     ]
    }
   ],
   "source": [
    "# sample from the model\n",
    "g = torch.Generator().manual_seed(2147483647 + 10)\n",
    "\n",
    "for _ in range(20):\n",
    "    \n",
    "    out = []\n",
    "    context = [0] * block_size # initialize with all ...\n",
    "    while True:\n",
    "      emb = C[torch.tensor([context])] # (1,block_size,d) because it's 1 example being generated, every forward pass adds a prediction until . is hit\n",
    "      h = torch.tanh(emb.view(1, -1) @ W1 + b1)\n",
    "      logits = h @ W2 + b2\n",
    "      probs = F.softmax(logits, dim=1)\n",
    "      ix = torch.multinomial(probs, num_samples=1, generator=g).item() # sample from predicted probability distribution over the characters\n",
    "      context = context[1:] + [ix] # shift context\n",
    "      out.append(ix) # append index of predicted character\n",
    "      if ix == 0:\n",
    "        break\n",
    "    \n",
    "    print(''.join(itos[i] for i in out)) # convert indices to characters and print"
   ]
  },
  {
   "cell_type": "code",
   "execution_count": 11,
   "metadata": {},
   "outputs": [
    {
     "name": "stdout",
     "output_type": "stream",
     "text": [
      "-torch.tensor(1/27.0).log() = tensor(3.2958)\n"
     ]
    }
   ],
   "source": [
    "# Issues: \n",
    "\n",
    "# 1) The loss at initialization is not appropriate:\n",
    "#    first 10k training steps loss:\n",
    "#                     0/ 200000: 27.8817\n",
    "#                     10000/ 200000: 2.7955\n",
    "# \n",
    "#  We expect the model to predict all characters with equal probability when it hasn't learned\n",
    "#  anything yet. This means a p of 1/27.0. And the associated loss is:\n",
    "print(f'{-torch.tensor(1/27.0).log() = }')\n",
    "\n",
    "# Note: if instead we correctly initialize the weights (around 0 but with some entropy to break symmetry) and biases (to 0),\n",
    "#       the first 10k iterations can be used to actually learn something, yielding better performance of the NN after all training is done.\n",
    "\n",
    "# 2) if too many activations fed into the tanh are too large, the tanh will respond in the same way (with -1 or 1, remember tanh graph), \n",
    "#    this causes gradients to vanish, which can result in dead neurons that never learn (their weights and biases are never learning)! \n",
    "#       Remember summary of grad calc Steps:\n",
    "#           Compute the forward pass with y = tanh(x).\n",
    "#           During backpropagation, receive the gradient of the loss with respect to the output of the tanh function, dL/dy.\n",
    "#           Compute the derivative of the tanh function: dy/dx = 1 - tanh^2(x) = 1 - y^2.\n",
    "#           Apply the chain rule: dL/dx = dL/dy * (1 - y^2).\n",
    "#    https://www.youtube.com/watch?v=P6sfmUTpUmc&t=144s (00:12:59 - 00:27:53)"
   ]
  },
  {
   "cell_type": "markdown",
   "metadata": {},
   "source": [
    "### Distributions optimization"
   ]
  },
  {
   "cell_type": "code",
   "execution_count": 12,
   "metadata": {},
   "outputs": [
    {
     "name": "stdout",
     "output_type": "stream",
     "text": [
      "11897\n"
     ]
    }
   ],
   "source": [
    "# Initialize\n",
    "n_embd = 10 # the dimensionality of the character embedding vectors\n",
    "n_hidden = 200 # the number of neurons in the hidden layer of the MLP\n",
    "\n",
    "# In modern NNs the most practical initialization is gain to ensure normal distribution of parameters is sqrt(fan_in) with fan_in being the number of\n",
    "# inputs.\n",
    "\n",
    "g = torch.Generator().manual_seed(2147483647) # for reproducibility\n",
    "C  = torch.randn((vocab_size, n_embd),            generator=g)\n",
    "W1 = torch.randn((n_embd * block_size, n_hidden), generator=g) * (5/3) / ((n_embd * block_size)**0.5) # Kaiming initialization\n",
    "b1 = torch.randn(n_hidden,                        generator=g) * 0.01\n",
    "W2 = torch.randn((n_hidden, vocab_size),          generator=g) * 0.01\n",
    "b2 = torch.randn(vocab_size,                      generator=g) * 0  \n",
    "\n",
    "parameters = [C, W1, b1, W2, b2]\n",
    "print(sum(p.nelement() for p in parameters)) # number of parameters in total\n",
    "for p in parameters:\n",
    "  p.requires_grad = True"
   ]
  },
  {
   "cell_type": "code",
   "execution_count": 13,
   "metadata": {},
   "outputs": [
    {
     "name": "stdout",
     "output_type": "stream",
     "text": [
      "      0/ 200000: 3.3179\n",
      "  10000/ 200000: 2.1910\n",
      "  20000/ 200000: 2.3270\n",
      "  30000/ 200000: 2.5396\n",
      "  40000/ 200000: 1.9468\n",
      "  50000/ 200000: 2.3331\n",
      "  60000/ 200000: 2.3852\n",
      "  70000/ 200000: 2.1173\n",
      "  80000/ 200000: 2.3159\n",
      "  90000/ 200000: 2.2010\n",
      " 100000/ 200000: 1.8591\n",
      " 110000/ 200000: 2.0881\n",
      " 120000/ 200000: 1.9389\n",
      " 130000/ 200000: 2.3913\n",
      " 140000/ 200000: 2.0949\n",
      " 150000/ 200000: 2.1458\n",
      " 160000/ 200000: 1.7824\n",
      " 170000/ 200000: 1.7249\n",
      " 180000/ 200000: 1.9752\n",
      " 190000/ 200000: 1.8614\n"
     ]
    }
   ],
   "source": [
    "max_steps = 200000\n",
    "batch_size = 32\n",
    "loss_i = []\n",
    "\n",
    "for i in range(max_steps):\n",
    "\n",
    "    # Minibatch construction\n",
    "    ix = torch.randint(0, Xtr.shape[0], (batch_size,), generator=g) # sample random row indices\n",
    "    Xb, Yb = Xtr[ix], Ytr[ix]   # batch X,Y of char indices \n",
    "\n",
    "    # Forward pass\n",
    "    emb = C[Xb]                             # embed the characters into vectors\n",
    "    emb_cat = emb.view(emb.shape[0], -1)    # concatenate the vectors\n",
    "    h_pre_act = emb_cat @ W1 + b1           # hidden layer pre-activation\n",
    "    h = torch.tanh(h_pre_act)               # hidden layer\n",
    "    logits = h @ W2 + b2                    # output layer    \n",
    "    loss = F.cross_entropy(logits, Yb)      # loss function\n",
    "    \n",
    "    # Backward pass\n",
    "    for p in parameters:    \n",
    "        p.grad = None\n",
    "    loss.backward()\n",
    "\n",
    "    # Update\n",
    "    lr = 0.1 if i < 100000 else 0.01 # step learning rate decay\n",
    "    for p in parameters: # Note that the embeddings are also updated!\n",
    "        p.data += -lr * p.grad\n",
    "\n",
    "    # Track stats\n",
    "    if i  % 10000 == 0: # Print every once in a while\n",
    "        print(f'{i:7d}/{max_steps:7d}: {loss.item():.4f}')\n",
    "    loss_i.append(loss.log10().item()) "
   ]
  },
  {
   "cell_type": "code",
   "execution_count": 14,
   "metadata": {},
   "outputs": [
    {
     "data": {
      "text/plain": [
       "[<matplotlib.lines.Line2D at 0x16356d6aec0>]"
      ]
     },
     "execution_count": 14,
     "metadata": {},
     "output_type": "execute_result"
    },
    {
     "data": {
      "image/png": "[encoded data removed]",
      "text/plain": [
       "<Figure size 640x480 with 1 Axes>"
      ]
     },
     "metadata": {},
     "output_type": "display_data"
    }
   ],
   "source": [
    "plt.plot(loss_i)"
   ]
  },
  {
   "cell_type": "code",
   "execution_count": 15,
   "metadata": {},
   "outputs": [
    {
     "name": "stdout",
     "output_type": "stream",
     "text": [
      "train 2.0376641750335693\n",
      "val 2.106989622116089\n"
     ]
    }
   ],
   "source": [
    "@torch.no_grad()    # temporarily turns off gradient computation for the next function\n",
    "                    # Makes the code more efficient since Pytorch does not have to maintain the computational graph for gradient calc\n",
    "\n",
    "def split_loss(split: str) -> None:\n",
    "    x, y = {\n",
    "        'train': (Xtr, Ytr),\n",
    "        'val': (Xdev, Ydev),\n",
    "        'test': (Xte, Yte)\n",
    "    }[split] # index into the dictionary to select what to evaluate based on function call\n",
    "\n",
    "    #Forward pass\n",
    "    emb = C[x]                              # (N, block_size, n_embd)                        \n",
    "    emb_cat = emb.view(emb.shape[0], -1)    # concat into (N, block_size * n_embd)\n",
    "    h = torch.tanh(emb_cat @ W1 + b1)       # (N, n_hidden)\n",
    "    logits = h @ W2 + b2                    # (N, vocab_size)\n",
    "    loss = F.cross_entropy(logits, y)\n",
    "    print(split, loss.item())\n",
    "\n",
    "split_loss('train')\n",
    "split_loss('val')\n",
    "\n",
    "# Note: Loss is much better."
   ]
  },
  {
   "cell_type": "markdown",
   "metadata": {},
   "source": [
    "## Batch Norm"
   ]
  },
  {
   "cell_type": "code",
   "execution_count": 23,
   "metadata": {},
   "outputs": [
    {
     "name": "stdout",
     "output_type": "stream",
     "text": [
      "12097\n"
     ]
    }
   ],
   "source": [
    "# Initialize\n",
    "n_embd = 10 # the dimensionality of the character embedding vectors\n",
    "n_hidden = 200 # the number of neurons in the hidden layer of the MLP\n",
    "\n",
    "g = torch.Generator().manual_seed(2147483647) # for reproducibility\n",
    "C  = torch.randn((vocab_size, n_embd),            generator=g)\n",
    "W1 = torch.randn((n_embd * block_size, n_hidden), generator=g) * (5/3) / ((n_embd * block_size**0.5)) # Kaiming initialization\n",
    "\n",
    "# b1 = torch.randn(n_hidden,                        generator=g) * 0.01\n",
    "# Note: μ = mean(W * x) + b \n",
    "#       Thus, the bias b directly shifts the mean of the pre-activation output z by b. This is important because when we subtract the mean μ during \n",
    "#       BatchNorm, we effectively remove this shift. Therefore, the batch norm biases (which are per neuron) can take on the role of neuron biases.\n",
    "#       \n",
    "#       BatchNorm scaling: z_BN(i,j) = γ_j * z_hat(i, j) + β_j     ,     with i = ith batch sample and j = jth neuron.\n",
    "#\n",
    "#       On the other hand, The scaling factor γ (gamma) in BatchNorm does not replace the weights W because they serve different purposes. The weights \n",
    "#       W learn the relationships between inputs and outputs (i.e., the core pattern learning in the network), while \n",
    "#       γ adjusts the scale of the output after normalization to ensure effective training without interfering with the weights' role in \n",
    "#       learning features. (biases are 1 per neuron, just like in BatchNorm, but weights are n_inputs per neuron, unlike the scaling factor γ,\n",
    "#       which is 1 per neuron as well. Remember W is a matrix and b a vector.).\n",
    "\n",
    "W2 = torch.randn((n_hidden, vocab_size),          generator=g) * 0.01\n",
    "b2 = torch.randn(vocab_size,                      generator=g) * 0  \n",
    "\n",
    "bngain = torch.ones(1, n_hidden)  # Batch norm parameters. Through these, the NN can have the freedom to learn how to best shape its preactivation \n",
    "                                  # distributions.\n",
    "bnbias = torch.zeros(1, n_hidden)  # The important thing is that, at initialization, the preactivations are all normalized.\n",
    "\n",
    "bnmean_running = torch.zeros(1, n_hidden)   # Tracking instead of calculating them over the whole training set at the end\n",
    "bnstd_running = torch.ones(1, n_hidden)     # Initialized to 1s since h_pre_act will be roughly unit gaussian as per initialization\n",
    "\n",
    "# parameters = [C, W1, b1, W2, b2, bngain, bnbias]\n",
    "parameters = [C, W1, W2, b2, bngain, bnbias]\n",
    "print(sum(p.nelement() for p in parameters)) # number of parameters in total\n",
    "for p in parameters:\n",
    "  p.requires_grad = True"
   ]
  },
  {
   "cell_type": "code",
   "execution_count": 24,
   "metadata": {},
   "outputs": [
    {
     "name": "stdout",
     "output_type": "stream",
     "text": [
      "      0/ 200000: 3.3239\n",
      "  10000/ 200000: 2.1029\n",
      "  20000/ 200000: 2.5859\n",
      "  30000/ 200000: 1.9663\n",
      "  40000/ 200000: 2.2720\n",
      "  50000/ 200000: 1.7952\n",
      "  60000/ 200000: 2.1208\n",
      "  70000/ 200000: 2.3775\n",
      "  80000/ 200000: 2.4205\n",
      "  90000/ 200000: 2.0829\n",
      " 100000/ 200000: 2.3486\n",
      " 110000/ 200000: 2.3512\n",
      " 120000/ 200000: 1.6859\n",
      " 130000/ 200000: 1.9948\n",
      " 140000/ 200000: 2.2430\n",
      " 150000/ 200000: 2.0044\n",
      " 160000/ 200000: 2.0956\n",
      " 170000/ 200000: 2.4032\n",
      " 180000/ 200000: 2.0609\n",
      " 190000/ 200000: 2.0705\n"
     ]
    }
   ],
   "source": [
    "max_steps = 200000\n",
    "batch_size = 32\n",
    "loss_i = []\n",
    "\n",
    "for i in range(max_steps):\n",
    "\n",
    "    # Minibatch construction\n",
    "    ix = torch.randint(0, Xtr.shape[0], (batch_size,), generator=g) # sample random row indices\n",
    "    Xb, Yb = Xtr[ix], Ytr[ix]   # batch X,Y of char indices \n",
    "\n",
    "    # Forward pass\n",
    "    emb = C[Xb]                             # embed the characters into vectors\n",
    "    emb_cat = emb.view(emb.shape[0], -1)    # concatenate the vectors\n",
    "    h_pre_act = emb_cat @ W1 # + b1           # hidden layer pre-activation\n",
    "\n",
    "    # Batch norm layer.\n",
    "    # ------------------------------------------------------------------------------------------------------------------------------\n",
    "    bnmeani = h_pre_act.mean(0, keepdim=True)\n",
    "    bnstdi = h_pre_act.std(0, keepdim=True)\n",
    "\n",
    "    h_pre_act = bngain * ((h_pre_act - bnmeani) / bnstdi) + bnbias # bnbias takes on the function of the neuron biases.\n",
    "\n",
    "    with torch.no_grad():   # Tell pytorch these are not to be backprop through and should not be added to the computational graph.\n",
    "        bnmean_running = 0.999 * bnmean_running + 0.001 * bnmeani\n",
    "        bnstd_running = 0.999 * bnstd_running + 0.001 * bnstdi\n",
    "    # ------------------------------------------------------------------------------------------------------------------------------\n",
    "    h = torch.tanh(h_pre_act)               # hidden layer\n",
    "    logits = h @ W2 + b2                    # output layer    \n",
    "    loss = F.cross_entropy(logits, Yb)      # loss function\n",
    "    \n",
    "    # Backward pass\n",
    "    for p in parameters:    \n",
    "        p.grad = None\n",
    "    loss.backward()\n",
    "\n",
    "    # Update\n",
    "    lr = 0.1 if i < 100000 else 0.01 # step learning rate decay\n",
    "    for p in parameters: # Note that the embeddings are also updated!\n",
    "        p.data += -lr * p.grad\n",
    "\n",
    "    # Track stats\n",
    "    if i  % 10000 == 0: # Print every once in a while\n",
    "        print(f'{i:7d}/{max_steps:7d}: {loss.item():.4f}')\n",
    "    loss_i.append(loss.log10().item()) "
   ]
  },
  {
   "cell_type": "code",
   "execution_count": 25,
   "metadata": {},
   "outputs": [
    {
     "data": {
      "text/plain": [
       "torch.Size([1, 200])"
      ]
     },
     "execution_count": 25,
     "metadata": {},
     "output_type": "execute_result"
    }
   ],
   "source": [
    "h_pre_act.mean(0, keepdim=True).shape # mean and std are calculated PER NEURON!"
   ]
  },
  {
   "cell_type": "code",
   "execution_count": 33,
   "metadata": {},
   "outputs": [],
   "source": [
    "# Problem: The NN now expects batches so it can compute batch statistics, but at inference time we might want just one output.\n",
    "\n",
    "# Therefore, we estimate bnmean and bnstd at the end, and these values will be used at inference time.\n",
    "\n",
    "# with torch.no_grad():\n",
    "    # pass the training set through\n",
    "#     emb = C[Xtr]\n",
    "#     embcat = emb.view(emb.shape[0], -1)\n",
    "#     h_pre_act = embcat @ W1 + b1\n",
    "\n",
    "    # Measure the traning set mean and std (remember emb was taken from the whole Xtr)\n",
    "#     bnmean = h_pre_act.mean(0, keepdim=True) \n",
    "#     bnstd = h_pre_act.std(0, keepdim=True)\n",
    "\n",
    "# But in a better way, we can instead just keep track of the mean and std as we train."
   ]
  },
  {
   "cell_type": "code",
   "execution_count": 27,
   "metadata": {},
   "outputs": [
    {
     "name": "stdout",
     "output_type": "stream",
     "text": [
      "train 2.0596511363983154\n",
      "val 2.1066300868988037\n"
     ]
    }
   ],
   "source": [
    "@torch.no_grad()    # Temporarily turns off gradient computation for the next function.\n",
    "                    # Makes the code more efficient since Pytorch does not have to maintain the computational graph for gradient calc\n",
    "\n",
    "def split_loss(split: str) -> None:\n",
    "    x, y = {\n",
    "        'train': (Xtr, Ytr),\n",
    "        'val': (Xdev, Ydev),\n",
    "        'test': (Xte, Yte)\n",
    "    }[split] # index into the dictionary to select what to evaluate based on function call\n",
    "\n",
    "    #Forward pass\n",
    "    emb = C[x]                              # (N, block_size, n_embd)                        \n",
    "    emb_cat = emb.view(emb.shape[0], -1)    # concat into (N, block_size * n_embd)\n",
    "    h_pre_act = emb_cat @ W1 # + b1           # (N, n_hidden)\n",
    "\n",
    "    h_pre_act = bngain * ((h_pre_act - bnmean_running) / bnstd_running) + bnbias # Batch norm layer with running statistics for inference\n",
    "\n",
    "    h = torch.tanh(h_pre_act)               # (N, n_hidden)\n",
    "    logits = h @ W2 + b2                    # (N, vocab_size)\n",
    "    loss = F.cross_entropy(logits, y)\n",
    "    print(split, loss.item())\n",
    "\n",
    "split_loss('train')\n",
    "split_loss('val')"
   ]
  },
  {
   "cell_type": "code",
   "execution_count": 33,
   "metadata": {},
   "outputs": [
    {
     "name": "stdout",
     "output_type": "stream",
     "text": [
      "emb.shape = torch.Size([32, 3, 10]), \n",
      "emb_cat.shape = torch.Size([32, 30]), \n",
      "W1.shape = torch.Size([30, 200]), \n",
      "h_pre_act.shape = torch.Size([32, 200]), \n",
      "h.shape = torch.Size([32, 200]), \n",
      "logits.shape = torch.Size([32, 27])\n"
     ]
    }
   ],
   "source": [
    "print(f'{emb.shape = }, \\n{emb_cat.shape = }, \\n{W1.shape = }, \\n{h_pre_act.shape = }, \\n{h.shape = }, \\n{logits.shape = }')"
   ]
  },
  {
   "cell_type": "markdown",
   "metadata": {},
   "source": [
    "## Code cleanup with classes and functions"
   ]
  },
  {
   "cell_type": "code",
   "execution_count": 46,
   "metadata": {},
   "outputs": [
    {
     "name": "stdout",
     "output_type": "stream",
     "text": [
      "46497\n"
     ]
    }
   ],
   "source": [
    "class Linear: \n",
    "\n",
    "    def __init__(self, fan_in: int, fan_out: int, bias: bool =True) -> None:\n",
    "        self.weight = torch.randn((fan_in, fan_out), generator=g) / fan_in**0.5\n",
    "        self.bias = torch.zeros(fan_out) if bias else None # (means if bias == True else None)\n",
    "    \n",
    "    def __call__(self, x: torch.tensor) -> torch.tensor:    # Special method that allows an instance of a class to be called like a function.\n",
    "        self.out = x @ self.weight\n",
    "        if self.bias is not None:   # The 'is' and 'is not' operators check object identity, meaning they determine whether two references point to \n",
    "                                    # the exact same object in memory.\n",
    "\n",
    "                                    # == and !=, on the other hand, check object equality, meaning they determine whether the values of two \n",
    "                                    # objects are equal, regardless of whether they are the same object in memory.\n",
    "            self.out += self.bias\n",
    "        return self.out\n",
    "    \n",
    "    def parameters(self) -> list:\n",
    "        return [self.weight] + ([] if self.bias is None else [self.bias])\n",
    "\n",
    "\n",
    "class BatchNorm1d:\n",
    "\n",
    "    def __init__(self, dim: int, eps: float = 1e-05, momentum: float = 0.1) -> None:\n",
    "        self.eps = eps\n",
    "        self.momentum = momentum\n",
    "        self.training = True\n",
    "        # Parameters (trained with backprop)\n",
    "        self.gamma = torch.ones(dim)\n",
    "        self.beta = torch.zeros(dim)\n",
    "        # Buffers (trained with a running 'momentum update')\n",
    "        self.running_mean = torch.zeros(dim)\n",
    "        self.running_var = torch.ones(dim)\n",
    "    \n",
    "    def __call__(self, x: torch.tensor) -> torch.tensor:\n",
    "        # Forward pass\n",
    "        if self.training:\n",
    "            xmean = x.mean(0, keepdim= True)\n",
    "            xvar = x.var(0, keepdim = True)\n",
    "        else:\n",
    "            xmean = self.running_mean\n",
    "            xvar = self.running_var\n",
    "        xhat = (x - xmean) / torch.sqrt(xvar + self.eps) # normalize\n",
    "        self.out = self.gamma * xhat + self.beta\n",
    "        # update the buffers\n",
    "        if self.training:\n",
    "            with torch.no_grad():\n",
    "                self.running_mean = (1 - self.momentum) * self.running_mean + self.momentum * xmean\n",
    "                self.running_var = (1 - self.momentum) * self.running_var + self.momentum * xvar\n",
    "        return self.out\n",
    "\n",
    "    def parameters(self) -> list:\n",
    "        return [self.gamma, self.beta]\n",
    "    \n",
    "class Tanh:\n",
    "    def __call__(self, x: torch.tensor) -> torch.tensor:\n",
    "        self.out = torch.tanh(x)\n",
    "        return self.out\n",
    "    \n",
    "    def parameters(self) -> list:\n",
    "        return []\n",
    "        \n",
    "n_embd = 10 # the dimensionality of the character embedding vectors\n",
    "n_hidden = 100 # the number of neurons in the hidden layer of the MLP\n",
    "g = torch.Generator().manual_seed(2147483647) # for reproducibility\n",
    "\n",
    "C = torch.randn(vocab_size, n_embd,                 generator=g) # random embeds\n",
    "\n",
    "layers = [\n",
    "    Linear(n_embd * block_size, n_hidden), Tanh(),  # (10*3, 100)\n",
    "    Linear(           n_hidden, n_hidden), Tanh(),  # (100, 100)\n",
    "    Linear(           n_hidden, n_hidden), Tanh(),\n",
    "    Linear(           n_hidden, n_hidden), Tanh(),\n",
    "    Linear(           n_hidden, n_hidden), Tanh(),\n",
    "    Linear(           n_hidden, vocab_size),        # (100, 27)\n",
    "]\n",
    "\n",
    "with torch.no_grad():\n",
    "    # Last layer: make less confident\n",
    "    layers[-1].weight *= 0.1\n",
    "    # All other layers: apply gain\n",
    "    for layer in layers[:-1]:\n",
    "        if isinstance(layer, Linear):\n",
    "            layer.weight *= 5/3\n",
    "\n",
    "parameters = [C] + [p for layer in layers for p in layer.parameters()]\n",
    "print(sum(p.nelement() for p in parameters)) # number of parameters in total\n",
    "\n",
    "for p in parameters:\n",
    "  p.requires_grad = True"
   ]
  },
  {
   "cell_type": "code",
   "execution_count": 43,
   "metadata": {},
   "outputs": [
    {
     "data": {
      "text/plain": [
       "torch.Size([27, 10])"
      ]
     },
     "execution_count": 43,
     "metadata": {},
     "output_type": "execute_result"
    }
   ],
   "source": [
    "C.shape"
   ]
  },
  {
   "cell_type": "code",
   "execution_count": null,
   "metadata": {},
   "outputs": [],
   "source": [
    "# Training\n",
    "\n",
    "max_steps = 200000\n",
    "batch_size = 32\n",
    "loss_i = []\n",
    "\n",
    "for i in range(max_steps):\n",
    "\n",
    "    # Minibatch construction\n",
    "    ix = torch.randint(0, Xtr.shape[0], (batch_size,), generator=g) # sample random row indices\n",
    "    Xb, Yb = Xtr[ix], Ytr[ix]   # Batch X,Y of char indices \n",
    "\n",
    "    # Forward pass\n",
    "    emb = C[Xb]                     # Embed the characters into vectors\n",
    "    x = emb.view(emb.shape[0], -1)  # Concatenate the vectors\n",
    "    for layer in layers:\n",
    "        x = layer(x)\n",
    "\n",
    "    loss = F.cross_entropy(x, Yb)   # Loss function\n",
    "\n",
    "    # Backward pass\n",
    "    for layer in layers:\n",
    "        layer.out.retain_grad()     # Tell Pytorch to retain the gradients\n",
    "\n",
    "    for p in parameters:    \n",
    "        p.grad = None\n",
    "\n",
    "    loss.backward()\n",
    "\n",
    "    # Update\n",
    "    lr = 0.1 if i < 100000 else 0.01 # step learning rate decay\n",
    "    for p in parameters: # Note that the embeddings are also updated!\n",
    "        p.data += -lr * p.grad\n",
    "\n",
    "    # Track stats\n",
    "    if i  % 10000 == 0: # Print every once in a while\n",
    "        print(f'{i:7d}/{max_steps:7d}: {loss.item():.4f}')\n",
    "    loss_i.append(loss.log10().item())\n",
    "\n",
    "    break # For debugging"
   ]
  }
 ],
 "metadata": {
  "kernelspec": {
   "display_name": "DL",
   "language": "python",
   "name": "python3"
  },
  "language_info": {
   "codemirror_mode": {
    "name": "ipython",
    "version": 3
   },
   "file_extension": ".py",
   "mimetype": "text/x-python",
   "name": "python",
   "nbconvert_exporter": "python",
   "pygments_lexer": "ipython3",
   "version": "3.10.13"
  }
 },
 "nbformat": 4,
 "nbformat_minor": 2
}
