{
 "cells": [
  {
   "cell_type": "code",
   "execution_count": 1,
   "metadata": {},
   "outputs": [],
   "source": [
    "# Implementation based on the following paper:\n",
    "\n",
    "# https://www.jmlr.org/papers/volume3/bengio03a/bengio03a.pdf"
   ]
  },
  {
   "cell_type": "code",
   "execution_count": 2,
   "metadata": {},
   "outputs": [],
   "source": [
    "# Key concept: Words are embedded in an n-dimensional embedding space. The MLP learns to organize this space in a way that forms understanding of\n",
    "#              semantics. The goal is to give similar embeddings to similar words. Each embedding dimensions will encode the model's compressed\n",
    "#              understanding. This allows the model to transfer knowledge and generalize to novel data."
   ]
  },
  {
   "cell_type": "code",
   "execution_count": 3,
   "metadata": {},
   "outputs": [],
   "source": [
    "import torch \n",
    "import torch.nn.functional as F\n",
    "import matplotlib.pyplot as plt \n",
    "%matplotlib inline"
   ]
  },
  {
   "cell_type": "code",
   "execution_count": 4,
   "metadata": {},
   "outputs": [
    {
     "data": {
      "text/plain": [
       "['emma', 'olivia', 'ava', 'isabella', 'sophia', 'charlotte', 'mia', 'amelia']"
      ]
     },
     "execution_count": 4,
     "metadata": {},
     "output_type": "execute_result"
    }
   ],
   "source": [
    "words = open('names.txt').read().splitlines()\n",
    "words[:8]"
   ]
  },
  {
   "cell_type": "code",
   "execution_count": 5,
   "metadata": {},
   "outputs": [
    {
     "data": {
      "text/plain": [
       "32033"
      ]
     },
     "execution_count": 5,
     "metadata": {},
     "output_type": "execute_result"
    }
   ],
   "source": [
    "len(words)"
   ]
  },
  {
   "cell_type": "code",
   "execution_count": 6,
   "metadata": {},
   "outputs": [
    {
     "name": "stdout",
     "output_type": "stream",
     "text": [
      "stoi = {'a': 1, 'b': 2, 'c': 3, 'd': 4, 'e': 5, 'f': 6, 'g': 7, 'h': 8, 'i': 9, 'j': 10, 'k': 11, 'l': 12, 'm': 13, 'n': 14, 'o': 15, 'p': 16, 'q': 17, 'r': 18, 's': 19, 't': 20, 'u': 21, 'v': 22, 'w': 23, 'x': 24, 'y': 25, 'z': 26}\n",
      "itos = {1: 'a', 2: 'b', 3: 'c', 4: 'd', 5: 'e', 6: 'f', 7: 'g', 8: 'h', 9: 'i', 10: 'j', 11: 'k', 12: 'l', 13: 'm', 14: 'n', 15: 'o', 16: 'p', 17: 'q', 18: 'r', 19: 's', 20: 't', 21: 'u', 22: 'v', 23: 'w', 24: 'x', 25: 'y', 26: 'z', 0: '.'}\n"
     ]
    }
   ],
   "source": [
    "# Build the vocabulary\n",
    "chars = sorted(list(set(''.join(words))))\n",
    "stoi = {s:i+1 for i,s in enumerate(chars)} # {} to create a dictionary, i+1 so the starting index is 1, enumerate returns an iterable of tuples\n",
    "print(f'{stoi = }')\n",
    "\n",
    "# Syntax is: {key_expression: value_expression for item in iterable}\n",
    "\n",
    "stoi['.'] = 0 # Add start/end token with 0 index\n",
    "itos = {i:s for s,i in stoi.items()}\n",
    "print(f'{itos = }')"
   ]
  },
  {
   "cell_type": "code",
   "execution_count": 7,
   "metadata": {},
   "outputs": [
    {
     "data": {
      "text/plain": [
       "[(0, 'a'),\n",
       " (1, 'b'),\n",
       " (2, 'c'),\n",
       " (3, 'd'),\n",
       " (4, 'e'),\n",
       " (5, 'f'),\n",
       " (6, 'g'),\n",
       " (7, 'h'),\n",
       " (8, 'i'),\n",
       " (9, 'j'),\n",
       " (10, 'k'),\n",
       " (11, 'l'),\n",
       " (12, 'm'),\n",
       " (13, 'n'),\n",
       " (14, 'o'),\n",
       " (15, 'p'),\n",
       " (16, 'q'),\n",
       " (17, 'r'),\n",
       " (18, 's'),\n",
       " (19, 't'),\n",
       " (20, 'u'),\n",
       " (21, 'v'),\n",
       " (22, 'w'),\n",
       " (23, 'x'),\n",
       " (24, 'y'),\n",
       " (25, 'z')]"
      ]
     },
     "execution_count": 7,
     "metadata": {},
     "output_type": "execute_result"
    }
   ],
   "source": [
    "list(enumerate(chars))"
   ]
  },
  {
   "cell_type": "code",
   "execution_count": 8,
   "metadata": {},
   "outputs": [],
   "source": [
    "# Build the dataset\n",
    "\n",
    "block_size = 3 # Context length\n",
    "X, Y = [], []\n",
    "\n",
    "for w in words: # run with words[:5] if checking\n",
    "    # print(w)\n",
    "    context = [0] * block_size # Multiplication of a list with a positive integer replicates the contents of the list that many times. \n",
    "                               # here [0, 0, 0]\n",
    "    for ch in w + '.':\n",
    "        ix = stoi[ch]\n",
    "        X.append(context)\n",
    "        Y.append(ix)\n",
    "        # print(''.join(itos[i] for i in context), ' ----> ', itos[ix])\n",
    "        \n",
    "        context = context[1:] + [ix] # Crop and append. This essentially shifts the context window to the right.\n",
    "\n",
    "X = torch.tensor(X)\n",
    "Y = torch.tensor(Y) "
   ]
  },
  {
   "cell_type": "code",
   "execution_count": 9,
   "metadata": {},
   "outputs": [
    {
     "data": {
      "text/plain": [
       "tensor([[ 0,  0,  0],\n",
       "        [ 0,  0,  5],\n",
       "        [ 0,  5, 13],\n",
       "        ...,\n",
       "        [26, 26, 25],\n",
       "        [26, 25, 26],\n",
       "        [25, 26, 24]])"
      ]
     },
     "execution_count": 9,
     "metadata": {},
     "output_type": "execute_result"
    }
   ],
   "source": [
    "X"
   ]
  },
  {
   "cell_type": "code",
   "execution_count": 10,
   "metadata": {},
   "outputs": [
    {
     "data": {
      "text/plain": [
       "(torch.Size([228146, 3]), torch.int64, torch.Size([228146]), torch.int64)"
      ]
     },
     "execution_count": 10,
     "metadata": {},
     "output_type": "execute_result"
    }
   ],
   "source": [
    "X.shape, X.dtype, Y.shape, Y.dtype"
   ]
  },
  {
   "cell_type": "code",
   "execution_count": 11,
   "metadata": {},
   "outputs": [
    {
     "name": "stdout",
     "output_type": "stream",
     "text": [
      "C.shape = torch.Size([27, 2]), \n",
      "C.dtype = torch.float32, \n",
      "C = tensor([[ 1.5674, -0.2373],\n",
      "        [-0.0274, -1.1008],\n",
      "        [ 0.2859, -0.0296],\n",
      "        [-1.5471,  0.6049],\n",
      "        [ 0.0791,  0.9046],\n",
      "        [-0.4713,  0.7868],\n",
      "        [-0.3284, -0.4330],\n",
      "        [ 1.3729,  2.9334],\n",
      "        [ 1.5618, -1.6261],\n",
      "        [ 0.6772, -0.8404],\n",
      "        [ 0.9849, -0.1484],\n",
      "        [-1.4795,  0.4483],\n",
      "        [-0.0707,  2.4968],\n",
      "        [ 2.4448, -0.6701],\n",
      "        [-1.2199,  0.3031],\n",
      "        [-1.0725,  0.7276],\n",
      "        [ 0.0511,  1.3095],\n",
      "        [-0.8022, -0.8504],\n",
      "        [-1.8068,  1.2523],\n",
      "        [ 0.1476, -1.0006],\n",
      "        [-0.5030, -1.0660],\n",
      "        [ 0.8480,  2.0275],\n",
      "        [-0.1158, -1.2078],\n",
      "        [-1.0406, -1.5367],\n",
      "        [-0.5132,  0.2961],\n",
      "        [-1.4904, -0.2838],\n",
      "        [ 0.2569,  0.2130]])\n"
     ]
    }
   ],
   "source": [
    "# Create the lookup table \"C\" of embeddings per character\n",
    "g = torch.Generator().manual_seed(2147483647) \n",
    "C = torch.randn((27,2), generator=g) # 27 characters embedded in a 2-dimensional space. Returns a tensor.\n",
    "print(f'{C.shape = }, \\n{C.dtype = }, \\n{C = }')"
   ]
  },
  {
   "cell_type": "code",
   "execution_count": 12,
   "metadata": {},
   "outputs": [
    {
     "data": {
      "text/plain": [
       "torch.Size([228146, 3, 2])"
      ]
     },
     "execution_count": 12,
     "metadata": {},
     "output_type": "execute_result"
    }
   ],
   "source": [
    "C[X].shape # We can index into the tensor C using another tensor.\n",
    "\n",
    "# The shape is (sample x character x embedding)\n",
    "# Remember 1 \"sample\" is made of 3 characters (the preceding 3, to be exact) at that is why the first two dimensions are 32 x 3,\n",
    "# and \"embedding \" consists of 2 values, which is why the last dimension is 2."
   ]
  },
  {
   "cell_type": "code",
   "execution_count": 13,
   "metadata": {},
   "outputs": [
    {
     "name": "stdout",
     "output_type": "stream",
     "text": [
      "C[0] = tensor([ 1.5674, -0.2373])\n",
      "C[X][0,:,0] = tensor([1.5674, 1.5674, 1.5674])\n"
     ]
    }
   ],
   "source": [
    "# Explanation of pytorch advanced indexing\n",
    "\n",
    "# What Happens in C[X]?\n",
    "# When you do C[X], you're not directly indexing C as if C were 3D. Instead, you're using the advanced indexing feature in PyTorch, \n",
    "# where the tensor X acts as a lookup table for rows in C. Here's how it works:\n",
    "\n",
    "# Indexing Mechanism:\n",
    "# X specifies which rows of C to select.\n",
    "# Each ENTRY of X is an index that tells PyTorch which row of C to pick.\n",
    "\n",
    "print(f'{C[0] = }') # This selects the first row of C\n",
    "print(f'{C[X][0,:,0] = }') # This grabs the first embedding for each character in the first sample (sample = context, made of 3 characters)\n",
    "                           # So the 3rd dimension is the useful one which contains the embeddings for each character\n"
   ]
  },
  {
   "cell_type": "code",
   "execution_count": 14,
   "metadata": {},
   "outputs": [
    {
     "data": {
      "text/plain": [
       "torch.Size([228146, 3, 2])"
      ]
     },
     "execution_count": 14,
     "metadata": {},
     "output_type": "execute_result"
    }
   ],
   "source": [
    "emb = C[X]\n",
    "emb.shape"
   ]
  },
  {
   "cell_type": "code",
   "execution_count": 15,
   "metadata": {},
   "outputs": [],
   "source": [
    "# Build hidden layer\n",
    "\n",
    "# Matrix of weights\n",
    "\n",
    "W1 = torch.randn((6, 100), generator=g)  # The NN takes the previous 3 characters and predicts the next one,\n",
    "                            # and each character was embedded using 2 values (2D embedding space).\n",
    "                            # This means that the NN takes (3 characters * 2 embeddings/character = 6 values),\n",
    "                            # and we set the layer to have 100 neurons.\n",
    "                        \n",
    "b1 = torch.randn(100, generator=g)       # Make 100 biases, 1 per neuron."
   ]
  },
  {
   "cell_type": "code",
   "execution_count": 16,
   "metadata": {},
   "outputs": [
    {
     "data": {
      "text/plain": [
       "tensor([[[ 1.5674, -0.2373],\n",
       "         [ 1.5674, -0.2373],\n",
       "         [ 1.5674, -0.2373]],\n",
       "\n",
       "        [[ 1.5674, -0.2373],\n",
       "         [ 1.5674, -0.2373],\n",
       "         [-0.4713,  0.7868]],\n",
       "\n",
       "        [[ 1.5674, -0.2373],\n",
       "         [-0.4713,  0.7868],\n",
       "         [ 2.4448, -0.6701]],\n",
       "\n",
       "        ...,\n",
       "\n",
       "        [[ 0.2569,  0.2130],\n",
       "         [ 0.2569,  0.2130],\n",
       "         [-1.4904, -0.2838]],\n",
       "\n",
       "        [[ 0.2569,  0.2130],\n",
       "         [-1.4904, -0.2838],\n",
       "         [ 0.2569,  0.2130]],\n",
       "\n",
       "        [[-1.4904, -0.2838],\n",
       "         [ 0.2569,  0.2130],\n",
       "         [-0.5132,  0.2961]]])"
      ]
     },
     "execution_count": 16,
     "metadata": {},
     "output_type": "execute_result"
    }
   ],
   "source": [
    "emb"
   ]
  },
  {
   "cell_type": "code",
   "execution_count": 23,
   "metadata": {},
   "outputs": [
    {
     "data": {
      "text/plain": [
       "torch.Size([228146, 3, 2])"
      ]
     },
     "execution_count": 23,
     "metadata": {},
     "output_type": "execute_result"
    }
   ],
   "source": [
    "emb.shape"
   ]
  },
  {
   "cell_type": "code",
   "execution_count": 17,
   "metadata": {},
   "outputs": [
    {
     "data": {
      "text/plain": [
       "tensor([[ 1.5674, -0.2373,  1.5674, -0.2373,  1.5674, -0.2373],\n",
       "        [ 1.5674, -0.2373,  1.5674, -0.2373, -0.4713,  0.7868],\n",
       "        [ 1.5674, -0.2373, -0.4713,  0.7868,  2.4448, -0.6701],\n",
       "        ...,\n",
       "        [ 0.2569,  0.2130,  0.2569,  0.2130, -1.4904, -0.2838],\n",
       "        [ 0.2569,  0.2130, -1.4904, -0.2838,  0.2569,  0.2130],\n",
       "        [-1.4904, -0.2838,  0.2569,  0.2130, -0.5132,  0.2961]])"
      ]
     },
     "execution_count": 17,
     "metadata": {},
     "output_type": "execute_result"
    }
   ],
   "source": [
    "# Now, the layer has to perform a matrix multiplication to operate on the inputs:\n",
    "\n",
    "# Something like emb @ W1 + b1\n",
    "\n",
    "# But this can't be done because the dimensions of emb and W1 are not compatible. Therefore, we need to reshape emb e.g. through concatenation.\n",
    "\n",
    "\n",
    "torch.cat([emb[:, 0, :], emb[:, 1, :], emb[:, 2, :]], 1)    # This grabs the embeddings of the 1st char, 2nd char, and 3rd char\n",
    "                                                            # and adds them as columns (dim 1)\n",
    "\n",
    "# The problem is that this code does not generalize because we have to manually list the tensors in the list that is passed to cat."
   ]
  },
  {
   "cell_type": "code",
   "execution_count": 18,
   "metadata": {},
   "outputs": [
    {
     "data": {
      "text/plain": [
       "tensor([[ 1.5674, -0.2373,  1.5674, -0.2373,  1.5674, -0.2373],\n",
       "        [ 1.5674, -0.2373,  1.5674, -0.2373, -0.4713,  0.7868],\n",
       "        [ 1.5674, -0.2373, -0.4713,  0.7868,  2.4448, -0.6701],\n",
       "        ...,\n",
       "        [ 0.2569,  0.2130,  0.2569,  0.2130, -1.4904, -0.2838],\n",
       "        [ 0.2569,  0.2130, -1.4904, -0.2838,  0.2569,  0.2130],\n",
       "        [-1.4904, -0.2838,  0.2569,  0.2130, -0.5132,  0.2961]])"
      ]
     },
     "execution_count": 18,
     "metadata": {},
     "output_type": "execute_result"
    }
   ],
   "source": [
    "# Better way with torch.unbind(emb, 1), which is equal to [emb[:, 0, :], emb[:, 1, :], emb[:, 2, :]] but generalizes.\n",
    "\n",
    "torch.cat(torch.unbind(emb, 1), 1)"
   ]
  },
  {
   "cell_type": "code",
   "execution_count": 19,
   "metadata": {},
   "outputs": [
    {
     "name": "stdout",
     "output_type": "stream",
     "text": [
      "a = tensor([ 0,  1,  2,  3,  4,  5,  6,  7,  8,  9, 10, 11, 12, 13, 14, 15, 16, 17]), \n",
      "a.shape = torch.Size([18]), \n",
      "\n",
      "a.storage() =  0\n",
      " 1\n",
      " 2\n",
      " 3\n",
      " 4\n",
      " 5\n",
      " 6\n",
      " 7\n",
      " 8\n",
      " 9\n",
      " 10\n",
      " 11\n",
      " 12\n",
      " 13\n",
      " 14\n",
      " 15\n",
      " 16\n",
      " 17\n",
      "[torch.storage.TypedStorage(dtype=torch.int64, device=cpu) of size 18]\n"
     ]
    },
    {
     "name": "stderr",
     "output_type": "stream",
     "text": [
      "C:\\Users\\emman\\AppData\\Local\\Temp\\ipykernel_8696\\592617819.py:6: UserWarning: TypedStorage is deprecated. It will be removed in the future and UntypedStorage will be the only storage class. This should only matter to you if you are using storages directly.  To access UntypedStorage directly, use tensor.untyped_storage() instead of tensor.storage()\n",
      "  print(f'{a = }, \\n{a.shape = }, \\n\\n{a.storage() = }') # Note: a.storage() returns a TypedStorage object, which is deprecated. Use .untyped_storage()\n"
     ]
    }
   ],
   "source": [
    "# But there is actually a more efficient way.\n",
    "\n",
    "# Proof:\n",
    "\n",
    "a = torch.arange(18)\n",
    "print(f'{a = }, \\n{a.shape = }, \\n\\n{a.storage() = }') # Note: a.storage() returns a TypedStorage object, which is deprecated. Use .untyped_storage()\n",
    "\n",
    "# Note: In computer memory the data of a tensor is always represented as a 1D vector!\n",
    "#       Pytorch then interprets this number sequence as a tensor of specific dimensions."
   ]
  },
  {
   "cell_type": "code",
   "execution_count": 21,
   "metadata": {},
   "outputs": [
    {
     "name": "stdout",
     "output_type": "stream",
     "text": [
      "a.view(3,3,2) = tensor([[[ 0,  1],\n",
      "         [ 2,  3],\n",
      "         [ 4,  5]],\n",
      "\n",
      "        [[ 6,  7],\n",
      "         [ 8,  9],\n",
      "         [10, 11]],\n",
      "\n",
      "        [[12, 13],\n",
      "         [14, 15],\n",
      "         [16, 17]]])\n"
     ]
    }
   ],
   "source": [
    "# On the other hand,\n",
    "\n",
    "print(f'{a.view(3,3,2) = }') # a.view(9, 9), a.view(6, 3), etc.\n",
    "\n",
    "#  .view() is therefore more efficient than .cat() in PyTorch because .view() only alters the shape of the tensor by modifying its metadata, \n",
    "#  without changing the underlying data. This operation is computationally inexpensive since no new memory allocation occurs. \n",
    "#  In contrast, .cat() creates a new tensor by concatenating existing tensors, which involves copying data and allocating new memory, \n",
    "#  making it more resource-intensive.\n",
    "\n",
    "# So instead we can do:\n",
    "\n",
    "# print(f'\\n{emb.view(32, 6) = }')\n"
   ]
  },
  {
   "cell_type": "code",
   "execution_count": 22,
   "metadata": {},
   "outputs": [
    {
     "data": {
      "text/plain": [
       "tensor([[-1.6952e+00,  8.5502e+00,  1.6284e+00,  ...,  2.2642e+00,\n",
       "         -1.9505e-01,  1.8469e+00],\n",
       "        [ 2.8741e-01,  4.3343e+00,  1.0142e+00,  ...,  2.8221e+00,\n",
       "          3.9128e+00,  3.4733e+00],\n",
       "        [-3.1026e+00,  9.9601e+00, -1.3306e+00,  ..., -5.7069e-01,\n",
       "         -5.9107e+00, -6.9120e-03],\n",
       "        ...,\n",
       "        [-5.2934e-01,  3.2823e+00, -7.6118e-01,  ..., -2.0010e+00,\n",
       "          4.2274e+00,  2.5265e+00],\n",
       "        [-1.6717e+00,  2.8001e+00, -2.4148e+00,  ..., -1.4663e+00,\n",
       "         -2.8894e+00,  6.8234e-01],\n",
       "        [-2.1565e+00,  4.0522e-01, -1.3514e+00,  ..., -5.6185e-01,\n",
       "          4.5460e+00, -3.3444e+00]])"
      ]
     },
     "execution_count": 22,
     "metadata": {},
     "output_type": "execute_result"
    }
   ],
   "source": [
    "# Perform hidden layer operation\n",
    "\n",
    "# emb.view(32, 6) @ W1 + b1\n",
    "emb.view(emb.shape[0], 6) @ W1 + b1     # Even better so dims are not hardcoded.\n",
    "                                        # emb.shape[0] selects the first dimension given by emb.shape.\n",
    "                                        # Can also use -1 as the first dim so Pytorch derives it itself, knowing that the number of elements has to\n",
    "                                        # be equal to the original tensor's.\n",
    "\n",
    "# Corresponds to the logits of the hidden layer, pre-activation function"
   ]
  },
  {
   "cell_type": "code",
   "execution_count": 24,
   "metadata": {},
   "outputs": [
    {
     "name": "stdout",
     "output_type": "stream",
     "text": [
      "h = tensor([[-0.9348,  1.0000,  0.9258,  ...,  0.9786, -0.1926,  0.9515],\n",
      "        [ 0.2797,  0.9997,  0.7675,  ...,  0.9929,  0.9992,  0.9981],\n",
      "        [-0.9960,  1.0000, -0.8694,  ..., -0.5159, -1.0000, -0.0069],\n",
      "        ...,\n",
      "        [-0.4849,  0.9972, -0.6418,  ..., -0.9641,  0.9996,  0.9873],\n",
      "        [-0.9318,  0.9926, -0.9841,  ..., -0.8989, -0.9938,  0.5930],\n",
      "        [-0.9736,  0.3844, -0.8744,  ..., -0.5093,  0.9998, -0.9975]]), \n",
      "\n",
      "h.shape = torch.Size([228146, 100])\n"
     ]
    }
   ],
   "source": [
    "# Calculate activations\n",
    "\n",
    "h = torch.tanh(emb.view(emb.shape[0], 6) @ W1 + b1)\n",
    "\n",
    "print(f'{h = }, \\n\\n{h.shape = }')"
   ]
  },
  {
   "cell_type": "code",
   "execution_count": 25,
   "metadata": {},
   "outputs": [
    {
     "name": "stdout",
     "output_type": "stream",
     "text": [
      "(emb.view(emb.shape[0], 6) @ W1).shape = torch.Size([228146, 100])\n",
      "\n",
      "b1.shape = torch.Size([100])\n"
     ]
    }
   ],
   "source": [
    "# Broadcasting correctness check:\n",
    "\n",
    "print(f'{(emb.view(emb.shape[0], 6) @ W1).shape = }')\n",
    "print(f'\\n{b1.shape = }')\n",
    "\n",
    "# So internally the broadcasting will\n",
    "\n",
    "# 32, 100\n",
    "#     100\n",
    "\n",
    "# first align the dimensions from the right,\n",
    "\n",
    "# 32, 100\n",
    "#  1, 100\n",
    "\n",
    "# then add a dimension made of 1s entries (this turns b1 into a row vector),\n",
    "# and then this row vector will be copied vertically to match the 32, 100 dim necessary for the addition\n",
    "\n",
    "# Conclusion: broadcasting in this case achieves the desired operation as the element-wise addition is performed with the same values for every row,\n",
    "# meaning each neuron (dim 1) adds the same bias to each sample."
   ]
  },
  {
   "cell_type": "code",
   "execution_count": 26,
   "metadata": {},
   "outputs": [],
   "source": [
    "# Make output layer\n",
    "\n",
    "W2 = torch.randn((100, 27), generator=g) # 100 input values from the previous layer (1 per neuron), and 27 outputs (a probability distribution over 27 characters)\n",
    "b2 = torch.randn(27, generator=g)"
   ]
  },
  {
   "cell_type": "code",
   "execution_count": 27,
   "metadata": {},
   "outputs": [
    {
     "name": "stdout",
     "output_type": "stream",
     "text": [
      "logits.shape = torch.Size([228146, 27])\n"
     ]
    }
   ],
   "source": [
    "logits = h @ W2 + b2\n",
    "print(f'{logits.shape = }')"
   ]
  },
  {
   "cell_type": "code",
   "execution_count": 28,
   "metadata": {},
   "outputs": [],
   "source": [
    "# Implement softmax fxn\n",
    "\n",
    "counts = logits.exp()\n",
    "prob = counts / counts.sum(1, keepdim=True) # Reminder: summing along dim 1 means summing 1 row across all it's columns (so it's a row sum)\n",
    "                                            # Reminder: keepdim=True necessary otherwise 1 dimension is collapsed, messing with broadcasting"
   ]
  },
  {
   "cell_type": "code",
   "execution_count": 29,
   "metadata": {},
   "outputs": [
    {
     "data": {
      "text/plain": [
       "torch.Size([228146])"
      ]
     },
     "execution_count": 29,
     "metadata": {},
     "output_type": "execute_result"
    }
   ],
   "source": [
    "Y.shape # 1 label character per training sample"
   ]
  },
  {
   "cell_type": "code",
   "execution_count": null,
   "metadata": {},
   "outputs": [],
   "source": [
    "# Take the probabilities assigned by the NN to the correct characters (Y) following each sample sequence.\n",
    "\n",
    "# prob[torch.arange(32), Y] # This provides two iterators of indices (tensors), since Pytorch supports advanced indexing there is no need to zip"
   ]
  },
  {
   "cell_type": "code",
   "execution_count": 31,
   "metadata": {},
   "outputs": [
    {
     "data": {
      "text/plain": [
       "3481"
      ]
     },
     "execution_count": 31,
     "metadata": {},
     "output_type": "execute_result"
    }
   ],
   "source": [
    "# Check number of total parameters\n",
    "\n",
    "parameters = [C, W1, b1, W2, b2]\n",
    "sum(p.nelement() for p in parameters)   "
   ]
  },
  {
   "cell_type": "code",
   "execution_count": 32,
   "metadata": {},
   "outputs": [
    {
     "name": "stdout",
     "output_type": "stream",
     "text": [
      "loss = tensor(19.5052)\n"
     ]
    }
   ],
   "source": [
    "# Loss function - Negative log likelihood\n",
    "\n",
    "# Manual NLL:\n",
    "\n",
    "# loss = -prob[torch.arange(32), Y].log().mean() # \n",
    "\n",
    "loss = F.cross_entropy(logits, Y)   # Cross entropy loss is just NLL + built in softmax,\n",
    "                                    # but more efficient since Pytorch uses a fused kernels to do all the operations and so uses less memory and time.\n",
    "                                    # Additionally, backprop becomes more efficient because the derivatives of fused operations are analytically simpler\n",
    "\n",
    "print(f'{loss = }')\n",
    "\n",
    "# Also, manual implementation runs into this problem:\n",
    " \n",
    "# logits = torch.tensor([-100, -3, 0, 100]) # large positive number exceeds the range of the floating point datatype, resulting in \"inf\"\n",
    "# counts = logits.exp()\n",
    "# probs = counts / counts.sum()\n",
    "# probs\n",
    "\n",
    "# The way Pytorch solves this internally is that it scales the logits down by subtracting the highest logit, since this does not change the\n",
    "# probabilities"
   ]
  },
  {
   "cell_type": "markdown",
   "metadata": {},
   "source": [
    "## Full implementation"
   ]
  },
  {
   "cell_type": "code",
   "execution_count": 33,
   "metadata": {},
   "outputs": [
    {
     "name": "stdout",
     "output_type": "stream",
     "text": [
      "X.shape = torch.Size([228146, 3]), \n",
      "Y.shape = torch.Size([228146])\n"
     ]
    }
   ],
   "source": [
    "print(f'{X.shape = }, \\n{Y.shape = }') # Check data dims"
   ]
  },
  {
   "cell_type": "code",
   "execution_count": 44,
   "metadata": {},
   "outputs": [
    {
     "data": {
      "text/plain": [
       "3481"
      ]
     },
     "execution_count": 44,
     "metadata": {},
     "output_type": "execute_result"
    }
   ],
   "source": [
    "# Parameters\n",
    "\n",
    "g = torch.Generator().manual_seed(2147483647)  # for reproducibility\n",
    "C = torch.randn(27, 2, generator=g)\n",
    "W1 = torch.randn(6, 100, generator=g)\n",
    "b1 = torch.randn(100, generator=g)\n",
    "W2 = torch.randn(100, 27, generator=g)\n",
    "b2 = torch.randn(27, generator=g)\n",
    "parameters = [C, W1, b1, W2, b2]\n",
    "\n",
    "sum(p.nelement() for p in parameters)  # number of parameters in total"
   ]
  },
  {
   "cell_type": "code",
   "execution_count": 45,
   "metadata": {},
   "outputs": [],
   "source": [
    "for p in parameters: # Pytorch requirement\n",
    "    p.requires_grad = True"
   ]
  },
  {
   "cell_type": "code",
   "execution_count": 46,
   "metadata": {},
   "outputs": [],
   "source": [
    "learning_rate_exp = torch.linspace(-3, 0, 1000) # 1000 elements\n",
    "learning_rates = 10**learning_rate_exp"
   ]
  },
  {
   "cell_type": "code",
   "execution_count": 47,
   "metadata": {},
   "outputs": [
    {
     "name": "stdout",
     "output_type": "stream",
     "text": [
      "7.163981914520264\n"
     ]
    }
   ],
   "source": [
    "lr_i = []\n",
    "lre_i = []\n",
    "loss_i = []\n",
    "\n",
    "for i in range(1000):\n",
    "\n",
    "    # Minibatch construction\n",
    "    ix = torch.randint(0, X.shape[0], (32,)) # Last parameter specifies the dimensions of the returned tensor, here (32,) means a 1D vector\n",
    "\n",
    "    # Forward pass\n",
    "    emb = C[X[ix]] # (32, 3, 2), indexing into X, which is the full training set, and grabbing 32 random samples\n",
    "    h = torch.tanh(emb.view(-1, 6) @ W1 + b1)  # (32, 100)\n",
    "    logits = h @ W2 + b2  # (32, 27)\n",
    "    loss = F.cross_entropy(logits, Y[ix])\n",
    "    # print(loss.item())\n",
    "    \n",
    "    # Backward pass\n",
    "    for p in parameters:    \n",
    "        p.grad = None   # IMPORTANT Note: Need to reset the gradients every training run.\n",
    "                        # Otherwise the model would think the error is much larger than it actually is, \n",
    "                        # because it's adding errors from previous batches or iterations together, which is not relevant to the current iteration's\n",
    "                        # loss!\n",
    "    loss.backward()\n",
    "\n",
    "    lr = learning_rates[i]\n",
    "    # Update\n",
    "    for p in parameters:\n",
    "        p.data += -lr * p.grad\n",
    "\n",
    "    # Track stats\n",
    "    lr_i.append(lr) # log learning rates\n",
    "    lre_i.append(learning_rate_exp[i])\n",
    "    loss_i.append(loss.item())\n",
    "\n",
    "print(loss.item()) # final batch loss"
   ]
  },
  {
   "cell_type": "code",
   "execution_count": 51,
   "metadata": {},
   "outputs": [
    {
     "data": {
      "image/png": "[encoded data removed]",
      "text/plain": [
       "<Figure size 1600x500 with 2 Axes>"
      ]
     },
     "metadata": {},
     "output_type": "display_data"
    }
   ],
   "source": [
    "# Plot learning rates vs losses\n",
    "plt.figure(figsize=(10, 10))\n",
    "# lr vs loss\n",
    "plt.subplot(1, 2, 1)  \n",
    "plt.plot(lr_i, loss_i)\n",
    "plt.title('ls vs loss')\n",
    "\n",
    "# lr exponents vs loss\n",
    "plt.subplot(1, 2, 2)  \n",
    "plt.plot(lre_i, loss_i)\n",
    "plt.title('lr exponents vs loss')\n",
    "\n",
    "plt.show()\n",
    "\n",
    "# Conclusion: lr exponent around -1 (meaning lr around 0.1) is a fairly good lr for this case"
   ]
  },
  {
   "cell_type": "code",
   "execution_count": 52,
   "metadata": {},
   "outputs": [
    {
     "data": {
      "text/plain": [
       "tensor(4.0856, grad_fn=<NllLossBackward0>)"
      ]
     },
     "execution_count": 52,
     "metadata": {},
     "output_type": "execute_result"
    }
   ],
   "source": [
    "# Final forward pass to check total loss:\n",
    "\n",
    "emb = C[X[ix]] # (32, 3, 2), indexing into X, which is the full training set, and grabbing 32 random samples\n",
    "h = torch.tanh(emb.view(-1, 6) @ W1 + b1)  # (32, 100)\n",
    "logits = h @ W2 + b2  # (32, 27)\n",
    "loss = F.cross_entropy(logits, Y[ix])\n",
    "loss"
   ]
  },
  {
   "cell_type": "markdown",
   "metadata": {},
   "source": [
    "## Repeat with determined lr"
   ]
  },
  {
   "cell_type": "code",
   "execution_count": 76,
   "metadata": {},
   "outputs": [
    {
     "data": {
      "text/plain": [
       "3481"
      ]
     },
     "execution_count": 76,
     "metadata": {},
     "output_type": "execute_result"
    }
   ],
   "source": [
    "# Parameters\n",
    "\n",
    "g = torch.Generator().manual_seed(2147483647)  # for reproducibility\n",
    "C = torch.randn(27, 2, generator=g)\n",
    "W1 = torch.randn(6, 100, generator=g)\n",
    "b1 = torch.randn(100, generator=g)\n",
    "W2 = torch.randn(100, 27, generator=g)\n",
    "b2 = torch.randn(27, generator=g)\n",
    "parameters = [C, W1, b1, W2, b2]\n",
    "\n",
    "sum(p.nelement() for p in parameters)  # number of parameters in total"
   ]
  },
  {
   "cell_type": "code",
   "execution_count": 77,
   "metadata": {},
   "outputs": [],
   "source": [
    "for p in parameters: # Pytorch requirement\n",
    "    p.requires_grad = True"
   ]
  },
  {
   "cell_type": "code",
   "execution_count": 80,
   "metadata": {},
   "outputs": [],
   "source": [
    "lr = 0.1\n",
    "\n",
    "for i in range(20000):\n",
    "\n",
    "    # Minibatch construction\n",
    "    ix = torch.randint(0, X.shape[0], (32,)) # Last parameter specifies the dimensions of the returned tensor, here (32,) means a 1D vector\n",
    "\n",
    "    # Forward pass\n",
    "    emb = C[X[ix]] # (32, 3, 2), indexing into X, which is the full training set, and grabbing 32 random samples\n",
    "    h = torch.tanh(emb.view(-1, 6) @ W1 + b1)  # (32, 100)\n",
    "    logits = h @ W2 + b2  # (32, 27)\n",
    "    loss = F.cross_entropy(logits, Y[ix])\n",
    "    # print(loss.item())\n",
    "    \n",
    "    # Backward pass\n",
    "    for p in parameters:    \n",
    "        p.grad = None   # IMPORTANT Note: Need to reset the gradients every training run.\n",
    "                        # Otherwise the model would think the error is much larger than it actually is, \n",
    "                        # because it's adding errors from previous batches or iterations together, which is not relevant to the current iteration's\n",
    "                        # loss!\n",
    "    loss.backward()\n",
    "\n",
    "    # Update\n",
    "    for p in parameters:\n",
    "        p.data += -lr * p.grad\n",
    "\n",
    "# print(loss.item()) # final batch loss"
   ]
  },
  {
   "cell_type": "code",
   "execution_count": 81,
   "metadata": {},
   "outputs": [
    {
     "data": {
      "text/plain": [
       "tensor(1.9298, grad_fn=<NllLossBackward0>)"
      ]
     },
     "execution_count": 81,
     "metadata": {},
     "output_type": "execute_result"
    }
   ],
   "source": [
    "# Final forward pass to check total loss:\n",
    "\n",
    "emb = C[X[ix]] # (32, 3, 2), indexing into X, which is the full training set, and grabbing 32 random samples\n",
    "h = torch.tanh(emb.view(-1, 6) @ W1 + b1)  # (32, 100)\n",
    "logits = h @ W2 + b2  # (32, 27)\n",
    "loss = F.cross_entropy(logits, Y[ix])\n",
    "loss"
   ]
  },
  {
   "cell_type": "code",
   "execution_count": 82,
   "metadata": {},
   "outputs": [],
   "source": [
    "# Use lower lr when close to convergence\n",
    "\n",
    "lr = 0.01\n",
    "\n",
    "for i in range(1000):\n",
    "\n",
    "    # Minibatch construction\n",
    "    ix = torch.randint(0, X.shape[0], (32,)) # Last parameter specifies the dimensions of the returned tensor, here (32,) means a 1D vector\n",
    "\n",
    "    # Forward pass\n",
    "    emb = C[X[ix]] # (32, 3, 2), indexing into X, which is the full training set, and grabbing 32 random samples\n",
    "    h = torch.tanh(emb.view(-1, 6) @ W1 + b1)  # (32, 100)\n",
    "    logits = h @ W2 + b2  # (32, 27)\n",
    "    loss = F.cross_entropy(logits, Y[ix])\n",
    "    # print(loss.item())\n",
    "    \n",
    "    # Backward pass\n",
    "    for p in parameters:    \n",
    "        p.grad = None   # IMPORTANT Note: Need to reset the gradients every training run.\n",
    "                        # Otherwise the model would think the error is much larger than it actually is, \n",
    "                        # because it's adding errors from previous batches or iterations together, which is not relevant to the current iteration's\n",
    "                        # loss!\n",
    "    loss.backward()\n",
    "\n",
    "    # Update\n",
    "    for p in parameters:\n",
    "        p.data += -lr * p.grad\n",
    "\n",
    "# print(loss.item()) # final batch loss"
   ]
  },
  {
   "cell_type": "code",
   "execution_count": 83,
   "metadata": {},
   "outputs": [
    {
     "data": {
      "text/plain": [
       "tensor(2.0292, grad_fn=<NllLossBackward0>)"
      ]
     },
     "execution_count": 83,
     "metadata": {},
     "output_type": "execute_result"
    }
   ],
   "source": [
    "# Final forward pass to check total loss:\n",
    "\n",
    "emb = C[X[ix]] # (32, 3, 2), indexing into X, which is the full training set, and grabbing 32 random samples\n",
    "h = torch.tanh(emb.view(-1, 6) @ W1 + b1)  # (32, 100)\n",
    "logits = h @ W2 + b2  # (32, 27)\n",
    "loss = F.cross_entropy(logits, Y[ix])\n",
    "loss\n",
    "\n",
    "# Note: if loss on the whole data set goes up with more training iterations, it means the NN is overfitting to the batches it used"
   ]
  },
  {
   "cell_type": "markdown",
   "metadata": {},
   "source": [
    "## Using data set partitions"
   ]
  },
  {
   "cell_type": "code",
   "execution_count": 94,
   "metadata": {},
   "outputs": [],
   "source": [
    "# Training split, dev/validation, test split\n",
    "# 80%, 10%, 10%"
   ]
  },
  {
   "cell_type": "code",
   "execution_count": 95,
   "metadata": {},
   "outputs": [
    {
     "name": "stdout",
     "output_type": "stream",
     "text": [
      "X.shape = torch.Size([182424, 3]), Y.shape = torch.Size([182424])\n",
      "X.shape = torch.Size([22836, 3]), Y.shape = torch.Size([22836])\n",
      "X.shape = torch.Size([22886, 3]), Y.shape = torch.Size([22886])\n"
     ]
    }
   ],
   "source": [
    "def build_dataset(words):\n",
    "    block_size = 3 # context length\n",
    "    X, Y = [], []\n",
    "    \n",
    "    for w in words:\n",
    "        # print(w)\n",
    "        context = [0] * block_size \n",
    "\n",
    "        for ch in w + '.':\n",
    "            ix = stoi[ch]\n",
    "            X.append(context)\n",
    "            Y.append(ix)\n",
    "            # print(''.join(itos[i] for i in context), ' ----> ', itos[ix])\n",
    "            \n",
    "            context = context[1:] + [ix] # Crop and append. This essentially shifts the context window to the right.\n",
    "\n",
    "    X = torch.tensor(X)\n",
    "    Y = torch.tensor(Y) \n",
    "    \n",
    "    print(f'{X.shape = }, {Y.shape = }')\n",
    "    \n",
    "    return X, Y\n",
    "\n",
    "import random\n",
    "\n",
    "random.seed(42)\n",
    "random.shuffle(words)\n",
    "n1 = int(0.8*len(words)) # partition indexes\n",
    "n2 = int(0.9*len(words))\n",
    "\n",
    "X_train, Y_train = build_dataset(words[:n1])\n",
    "X_dev, Y_dev = build_dataset(words[n1:n2])\n",
    "X_test, Y_test = build_dataset(words[n2:])\n",
    "        "
   ]
  },
  {
   "cell_type": "code",
   "execution_count": 105,
   "metadata": {},
   "outputs": [
    {
     "data": {
      "text/plain": [
       "10281"
      ]
     },
     "execution_count": 105,
     "metadata": {},
     "output_type": "execute_result"
    }
   ],
   "source": [
    "# Reset NN\n",
    "\n",
    "# Parameters\n",
    "\n",
    "g = torch.Generator().manual_seed(2147483647)  # for reproducibility\n",
    "C = torch.randn(27, 2, generator=g)\n",
    "W1 = torch.randn(6, 300, generator=g)   # Increased to 300 neurons from 100 (because train and test losses were not low enough but similar, indicating underfitting due to low \n",
    "                                        # model complexity)\n",
    "b1 = torch.randn(300, generator=g)\n",
    "W2 = torch.randn(300, 27, generator=g)\n",
    "b2 = torch.randn(27, generator=g)\n",
    "parameters = [C, W1, b1, W2, b2]\n",
    "\n",
    "sum(p.nelement() for p in parameters)  # number of parameters in total"
   ]
  },
  {
   "cell_type": "code",
   "execution_count": 106,
   "metadata": {},
   "outputs": [],
   "source": [
    "for p in parameters: # Pytorch requirement\n",
    "    p.requires_grad = True"
   ]
  },
  {
   "cell_type": "code",
   "execution_count": 121,
   "metadata": {},
   "outputs": [],
   "source": [
    "loss_i = []\n",
    "lr = 0.01\n",
    "\n",
    "step_i = []\n",
    "\n",
    "for i in range(30000):\n",
    "\n",
    "    # Minibatch construction\n",
    "    ix = torch.randint(0, X.shape[0], (32,)) # Last parameter specifies the dimensions of the returned tensor, here (32,) means a 1D vector\n",
    "\n",
    "    # Forward pass\n",
    "    emb = C[X[ix]] # (32, 3, 2), indexing into X, which is the full training set, and grabbing 32 random samples\n",
    "    h = torch.tanh(emb.view(-1, 6) @ W1 + b1)  # (32, 100)\n",
    "    logits = h @ W2 + b2  # (32, 27)\n",
    "    loss = F.cross_entropy(logits, Y[ix])\n",
    "    # print(loss.item())\n",
    "    \n",
    "    # Backward pass\n",
    "    for p in parameters:    # Note that the embeddings are also updated!\n",
    "        p.grad = None   # IMPORTANT Note: Need to reset the gradients every training run.\n",
    "                        # Otherwise the model would think the error is much larger than it actually is, \n",
    "                        # because it's adding errors from previous batches or iterations together, which is not relevant to the current iteration's\n",
    "                        # loss!\n",
    "    loss.backward()\n",
    "\n",
    "    \n",
    "    # Update\n",
    "    for p in parameters:\n",
    "        p.data += -lr * p.grad\n",
    "\n",
    "    # Track stats\n",
    "    loss_i.append(loss.item())\n",
    "    step_i.append(i)\n",
    "\n",
    "# print(loss.item()) # final batch loss"
   ]
  },
  {
   "cell_type": "code",
   "execution_count": 111,
   "metadata": {},
   "outputs": [
    {
     "data": {
      "image/png": "[encoded data removed]",
      "text/plain": [
       "<Figure size 1600x500 with 1 Axes>"
      ]
     },
     "metadata": {},
     "output_type": "display_data"
    }
   ],
   "source": [
    "plt.figure(figsize=(10, 10))\n",
    "plt.plot(step_i, loss_i)\n",
    "plt.title('Training step vs loss')\n",
    "plt.show()\n",
    "\n",
    "# Note: the loss noise stems from the fact that we are using minibatches to train"
   ]
  },
  {
   "cell_type": "code",
   "execution_count": 122,
   "metadata": {},
   "outputs": [
    {
     "data": {
      "text/plain": [
       "tensor(2.2274, grad_fn=<NllLossBackward0>)"
      ]
     },
     "execution_count": 122,
     "metadata": {},
     "output_type": "execute_result"
    }
   ],
   "source": [
    "# Check loss on dev set:\n",
    "\n",
    "emb = C[X_dev] # (32, 3, 2), indexing into X, which is the full training set, and grabbing 32 random samples\n",
    "h = torch.tanh(emb.view(-1, 6) @ W1 + b1)  # (32, 100)\n",
    "logits = h @ W2 + b2  # (32, 27)\n",
    "loss = F.cross_entropy(logits, Y_dev)\n",
    "loss"
   ]
  },
  {
   "cell_type": "code",
   "execution_count": 123,
   "metadata": {},
   "outputs": [
    {
     "data": {
      "text/plain": [
       "tensor(2.2183, grad_fn=<NllLossBackward0>)"
      ]
     },
     "execution_count": 123,
     "metadata": {},
     "output_type": "execute_result"
    }
   ],
   "source": [
    "# Check loss on train set:\n",
    "\n",
    "emb = C[X_train] # (32, 3, 2), indexing into X, which is the full training set, and grabbing 32 random samples\n",
    "h = torch.tanh(emb.view(-1, 6) @ W1 + b1)  # (32, 100)\n",
    "logits = h @ W2 + b2  # (32, 27)\n",
    "loss = F.cross_entropy(logits, Y_train)\n",
    "loss"
   ]
  },
  {
   "cell_type": "code",
   "execution_count": null,
   "metadata": {},
   "outputs": [],
   "source": [
    "# Considerations: \n",
    "\n",
    "# - The NN might be training on minibatches that are too small, making the convergence search too noisy\n",
    "# - The embedding space might be too low in dimensions, meaning the NN is unable to use those dimensions to represent what it is trying to learn"
   ]
  },
  {
   "cell_type": "code",
   "execution_count": null,
   "metadata": {},
   "outputs": [],
   "source": [
    "# Observation:\n",
    "\n",
    "# A lower learning rate can lead to faster loss reduction due to the increased stability it provides during training. \n",
    "# It allows for more controlled, accurate updates to the model parameters, helping the optimizer avoid overshooting, oscillations, \n",
    "# and other issues associated with higher learning rates. This results in a smoother and more consistent descent along the loss curve, \n",
    "# potentially leading to faster overall convergence even though each individual update is smaller."
   ]
  },
  {
   "cell_type": "markdown",
   "metadata": {},
   "source": [
    "## Visualize embedding vectors"
   ]
  },
  {
   "cell_type": "code",
   "execution_count": 132,
   "metadata": {},
   "outputs": [
    {
     "data": {
      "image/png": "[encoded data removed]",
      "text/plain": [
       "<Figure size 800x800 with 1 Axes>"
      ]
     },
     "metadata": {},
     "output_type": "display_data"
    }
   ],
   "source": [
    "plt.figure(figsize=(8,8))\n",
    "\n",
    "plt.scatter(C[:,0].data, C[:,1].data, s=200) # Remember C is the character embedding lookup table and it was updated during training!\n",
    "for i in range(C.shape[0]):\n",
    "    plt.text(C[i,0].item(), C[i,1].item(), itos[i], ha='center', va='center', color='white')\n",
    "plt.grid('minor')\n",
    "\n",
    "# Observations:\n",
    "\n",
    "# - The network has learned to cluster the characters. For example, the vowels.\n"
   ]
  }
 ],
 "metadata": {
  "kernelspec": {
   "display_name": "DL",
   "language": "python",
   "name": "python3"
  },
  "language_info": {
   "codemirror_mode": {
    "name": "ipython",
    "version": 3
   },
   "file_extension": ".py",
   "mimetype": "text/x-python",
   "name": "python",
   "nbconvert_exporter": "python",
   "pygments_lexer": "ipython3",
   "version": "3.10.13"
  }
 },
 "nbformat": 4,
 "nbformat_minor": 2
}
